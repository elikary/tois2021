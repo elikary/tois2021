{
 "cells": [
  {
   "cell_type": "markdown",
   "metadata": {},
   "source": [
    "## Figure 9 \n",
    "\n",
    "#### Frequency – in terms of number of item pairs – of agreement / disagreement and steepness between popularity and the relevance probability in CM100k, and the resulting agreement or disagreement in the optimal rankings."
   ]
  },
  {
   "cell_type": "code",
   "execution_count": 1,
   "metadata": {},
   "outputs": [],
   "source": [
    "import pandas as pd"
   ]
  },
  {
   "cell_type": "code",
   "execution_count": 2,
   "metadata": {
    "pycharm": {
     "name": "#%%\n"
    }
   },
   "outputs": [],
   "source": [
    "cols=['user_id','item_id','rating','known']"
   ]
  },
  {
   "cell_type": "code",
   "execution_count": 3,
   "metadata": {
    "pycharm": {
     "name": "#%%\n"
    }
   },
   "outputs": [],
   "source": [
    "path='../../librec-2.0.0/data/cm100k_true/'"
   ]
  },
  {
   "cell_type": "code",
   "execution_count": 4,
   "metadata": {},
   "outputs": [],
   "source": [
    "data=pd.read_csv(path + 'cm100k012.txt', sep='\\t',names=cols, encoding='latin-1')"
   ]
  },
  {
   "cell_type": "code",
   "execution_count": 5,
   "metadata": {
    "pycharm": {
     "name": "#%%\n"
    }
   },
   "outputs": [
    {
     "data": {
      "text/html": [
       "<div>\n",
       "<style scoped>\n",
       "    .dataframe tbody tr th:only-of-type {\n",
       "        vertical-align: middle;\n",
       "    }\n",
       "\n",
       "    .dataframe tbody tr th {\n",
       "        vertical-align: top;\n",
       "    }\n",
       "\n",
       "    .dataframe thead th {\n",
       "        text-align: right;\n",
       "    }\n",
       "</style>\n",
       "<table border=\"1\" class=\"dataframe\">\n",
       "  <thead>\n",
       "    <tr style=\"text-align: right;\">\n",
       "      <th></th>\n",
       "      <th>user_id</th>\n",
       "      <th>item_id</th>\n",
       "      <th>rating</th>\n",
       "      <th>known</th>\n",
       "    </tr>\n",
       "  </thead>\n",
       "  <tbody>\n",
       "    <tr>\n",
       "      <th>0</th>\n",
       "      <td>701</td>\n",
       "      <td>74476228</td>\n",
       "      <td>1</td>\n",
       "      <td>0</td>\n",
       "    </tr>\n",
       "    <tr>\n",
       "      <th>1</th>\n",
       "      <td>701</td>\n",
       "      <td>68559485</td>\n",
       "      <td>0</td>\n",
       "      <td>0</td>\n",
       "    </tr>\n",
       "    <tr>\n",
       "      <th>2</th>\n",
       "      <td>701</td>\n",
       "      <td>88304149</td>\n",
       "      <td>1</td>\n",
       "      <td>1</td>\n",
       "    </tr>\n",
       "    <tr>\n",
       "      <th>3</th>\n",
       "      <td>701</td>\n",
       "      <td>52503871</td>\n",
       "      <td>2</td>\n",
       "      <td>0</td>\n",
       "    </tr>\n",
       "    <tr>\n",
       "      <th>4</th>\n",
       "      <td>701</td>\n",
       "      <td>1209016</td>\n",
       "      <td>2</td>\n",
       "      <td>0</td>\n",
       "    </tr>\n",
       "  </tbody>\n",
       "</table>\n",
       "</div>"
      ],
      "text/plain": [
       "   user_id   item_id  rating  known\n",
       "0      701  74476228       1      0\n",
       "1      701  68559485       0      0\n",
       "2      701  88304149       1      1\n",
       "3      701  52503871       2      0\n",
       "4      701   1209016       2      0"
      ]
     },
     "execution_count": 5,
     "metadata": {},
     "output_type": "execute_result"
    }
   ],
   "source": [
    "data.head()"
   ]
  },
  {
   "cell_type": "code",
   "execution_count": 6,
   "metadata": {},
   "outputs": [
    {
     "data": {
      "text/plain": [
       "103584"
      ]
     },
     "execution_count": 6,
     "metadata": {},
     "output_type": "execute_result"
    }
   ],
   "source": [
    "len(data)"
   ]
  },
  {
   "cell_type": "code",
   "execution_count": 7,
   "metadata": {
    "pycharm": {
     "name": "#%%\n"
    }
   },
   "outputs": [
    {
     "data": {
      "text/plain": [
       "1054"
      ]
     },
     "execution_count": 7,
     "metadata": {},
     "output_type": "execute_result"
    }
   ],
   "source": [
    "data.user_id.nunique()"
   ]
  },
  {
   "cell_type": "code",
   "execution_count": 8,
   "metadata": {},
   "outputs": [
    {
     "data": {
      "text/plain": [
       "1084"
      ]
     },
     "execution_count": 8,
     "metadata": {},
     "output_type": "execute_result"
    }
   ],
   "source": [
    "data.item_id.nunique()"
   ]
  },
  {
   "cell_type": "code",
   "execution_count": 9,
   "metadata": {},
   "outputs": [],
   "source": [
    "def relevance(train, item):\n",
    "    ratings_item=train.loc[train.item_id == item].rating\n",
    "    non_rel = ratings_item[ratings_item <1].count() #num rel votes\n",
    "    rel = ratings_item[ratings_item >=1].count() #num non_rel votes\n",
    "    return rel, non_rel #number of rel ratings, number of non relevant ratings"
   ]
  },
  {
   "cell_type": "code",
   "execution_count": 10,
   "metadata": {},
   "outputs": [],
   "source": [
    "def seen(train,item):\n",
    "    known_item=train.loc[train.item_id == item].known\n",
    "    seen= known_item[known_item == 1].count()\n",
    "    return seen"
   ]
  },
  {
   "cell_type": "code",
   "execution_count": 11,
   "metadata": {},
   "outputs": [],
   "source": [
    "def seen_rel(train,item):\n",
    "    seen_item=train.loc[(train.item_id == item)&(data.known==1)].rating\n",
    "    seen_rel= seen_item[seen_item > 0].count()\n",
    "    return seen_rel"
   ]
  },
  {
   "cell_type": "code",
   "execution_count": 12,
   "metadata": {},
   "outputs": [],
   "source": [
    "#items with their corresponding number of ratings\n",
    "o = data.groupby('item_id').rating.count().reset_index().reset_index()"
   ]
  },
  {
   "cell_type": "code",
   "execution_count": 13,
   "metadata": {},
   "outputs": [
    {
     "data": {
      "text/html": [
       "<div>\n",
       "<style scoped>\n",
       "    .dataframe tbody tr th:only-of-type {\n",
       "        vertical-align: middle;\n",
       "    }\n",
       "\n",
       "    .dataframe tbody tr th {\n",
       "        vertical-align: top;\n",
       "    }\n",
       "\n",
       "    .dataframe thead th {\n",
       "        text-align: right;\n",
       "    }\n",
       "</style>\n",
       "<table border=\"1\" class=\"dataframe\">\n",
       "  <thead>\n",
       "    <tr style=\"text-align: right;\">\n",
       "      <th></th>\n",
       "      <th>index</th>\n",
       "      <th>item_id</th>\n",
       "      <th>rating</th>\n",
       "    </tr>\n",
       "  </thead>\n",
       "  <tbody>\n",
       "    <tr>\n",
       "      <th>0</th>\n",
       "      <td>0</td>\n",
       "      <td>526229</td>\n",
       "      <td>75</td>\n",
       "    </tr>\n",
       "    <tr>\n",
       "      <th>1</th>\n",
       "      <td>1</td>\n",
       "      <td>536440</td>\n",
       "      <td>109</td>\n",
       "    </tr>\n",
       "    <tr>\n",
       "      <th>2</th>\n",
       "      <td>2</td>\n",
       "      <td>585200</td>\n",
       "      <td>86</td>\n",
       "    </tr>\n",
       "    <tr>\n",
       "      <th>3</th>\n",
       "      <td>3</td>\n",
       "      <td>772894</td>\n",
       "      <td>113</td>\n",
       "    </tr>\n",
       "    <tr>\n",
       "      <th>4</th>\n",
       "      <td>4</td>\n",
       "      <td>774905</td>\n",
       "      <td>98</td>\n",
       "    </tr>\n",
       "  </tbody>\n",
       "</table>\n",
       "</div>"
      ],
      "text/plain": [
       "   index  item_id  rating\n",
       "0      0   526229      75\n",
       "1      1   536440     109\n",
       "2      2   585200      86\n",
       "3      3   772894     113\n",
       "4      4   774905      98"
      ]
     },
     "execution_count": 13,
     "metadata": {},
     "output_type": "execute_result"
    }
   ],
   "source": [
    "o.head()"
   ]
  },
  {
   "cell_type": "code",
   "execution_count": 14,
   "metadata": {},
   "outputs": [],
   "source": [
    "#to compute num of relevant items and non_relevant ratings per item\n",
    "def comp_rel(source, items):\n",
    "    for i in items['index']:\n",
    "        j = items.loc[i,'item_id']\n",
    "        rele=relevance(source, j)\n",
    "        items.at[i,'relevance'] = rele[0]\n",
    "        items.at[i,'non_relevance'] = rele[1]\n",
    "        items.at[i,'seen']= seen(source, j)\n",
    "        items.at[i,'seen_rel'] =seen_rel(source,j)\n",
    "    return items"
   ]
  },
  {
   "cell_type": "code",
   "execution_count": 15,
   "metadata": {},
   "outputs": [
    {
     "data": {
      "text/html": [
       "<div>\n",
       "<style scoped>\n",
       "    .dataframe tbody tr th:only-of-type {\n",
       "        vertical-align: middle;\n",
       "    }\n",
       "\n",
       "    .dataframe tbody tr th {\n",
       "        vertical-align: top;\n",
       "    }\n",
       "\n",
       "    .dataframe thead th {\n",
       "        text-align: right;\n",
       "    }\n",
       "</style>\n",
       "<table border=\"1\" class=\"dataframe\">\n",
       "  <thead>\n",
       "    <tr style=\"text-align: right;\">\n",
       "      <th></th>\n",
       "      <th>index</th>\n",
       "      <th>item_id</th>\n",
       "      <th>rating</th>\n",
       "      <th>relevance</th>\n",
       "      <th>non_relevance</th>\n",
       "      <th>seen</th>\n",
       "      <th>seen_rel</th>\n",
       "    </tr>\n",
       "  </thead>\n",
       "  <tbody>\n",
       "    <tr>\n",
       "      <th>0</th>\n",
       "      <td>0</td>\n",
       "      <td>526229</td>\n",
       "      <td>75</td>\n",
       "      <td>18.0</td>\n",
       "      <td>57.0</td>\n",
       "      <td>4.0</td>\n",
       "      <td>1.0</td>\n",
       "    </tr>\n",
       "    <tr>\n",
       "      <th>1</th>\n",
       "      <td>1</td>\n",
       "      <td>536440</td>\n",
       "      <td>109</td>\n",
       "      <td>57.0</td>\n",
       "      <td>52.0</td>\n",
       "      <td>70.0</td>\n",
       "      <td>48.0</td>\n",
       "    </tr>\n",
       "    <tr>\n",
       "      <th>2</th>\n",
       "      <td>2</td>\n",
       "      <td>585200</td>\n",
       "      <td>86</td>\n",
       "      <td>37.0</td>\n",
       "      <td>49.0</td>\n",
       "      <td>8.0</td>\n",
       "      <td>7.0</td>\n",
       "    </tr>\n",
       "    <tr>\n",
       "      <th>3</th>\n",
       "      <td>3</td>\n",
       "      <td>772894</td>\n",
       "      <td>113</td>\n",
       "      <td>19.0</td>\n",
       "      <td>94.0</td>\n",
       "      <td>1.0</td>\n",
       "      <td>0.0</td>\n",
       "    </tr>\n",
       "    <tr>\n",
       "      <th>4</th>\n",
       "      <td>4</td>\n",
       "      <td>774905</td>\n",
       "      <td>98</td>\n",
       "      <td>26.0</td>\n",
       "      <td>72.0</td>\n",
       "      <td>10.0</td>\n",
       "      <td>5.0</td>\n",
       "    </tr>\n",
       "    <tr>\n",
       "      <th>...</th>\n",
       "      <td>...</td>\n",
       "      <td>...</td>\n",
       "      <td>...</td>\n",
       "      <td>...</td>\n",
       "      <td>...</td>\n",
       "      <td>...</td>\n",
       "      <td>...</td>\n",
       "    </tr>\n",
       "    <tr>\n",
       "      <th>1079</th>\n",
       "      <td>1079</td>\n",
       "      <td>98104668</td>\n",
       "      <td>96</td>\n",
       "      <td>35.0</td>\n",
       "      <td>61.0</td>\n",
       "      <td>17.0</td>\n",
       "      <td>12.0</td>\n",
       "    </tr>\n",
       "    <tr>\n",
       "      <th>1080</th>\n",
       "      <td>1080</td>\n",
       "      <td>98400694</td>\n",
       "      <td>76</td>\n",
       "      <td>36.0</td>\n",
       "      <td>40.0</td>\n",
       "      <td>5.0</td>\n",
       "      <td>4.0</td>\n",
       "    </tr>\n",
       "    <tr>\n",
       "      <th>1081</th>\n",
       "      <td>1081</td>\n",
       "      <td>99107038</td>\n",
       "      <td>96</td>\n",
       "      <td>17.0</td>\n",
       "      <td>79.0</td>\n",
       "      <td>6.0</td>\n",
       "      <td>4.0</td>\n",
       "    </tr>\n",
       "    <tr>\n",
       "      <th>1082</th>\n",
       "      <td>1082</td>\n",
       "      <td>99677218</td>\n",
       "      <td>94</td>\n",
       "      <td>44.0</td>\n",
       "      <td>50.0</td>\n",
       "      <td>11.0</td>\n",
       "      <td>7.0</td>\n",
       "    </tr>\n",
       "    <tr>\n",
       "      <th>1083</th>\n",
       "      <td>1083</td>\n",
       "      <td>99757138</td>\n",
       "      <td>74</td>\n",
       "      <td>16.0</td>\n",
       "      <td>58.0</td>\n",
       "      <td>1.0</td>\n",
       "      <td>1.0</td>\n",
       "    </tr>\n",
       "  </tbody>\n",
       "</table>\n",
       "<p>1084 rows × 7 columns</p>\n",
       "</div>"
      ],
      "text/plain": [
       "      index   item_id  rating  relevance  non_relevance  seen  seen_rel\n",
       "0         0    526229      75       18.0           57.0   4.0       1.0\n",
       "1         1    536440     109       57.0           52.0  70.0      48.0\n",
       "2         2    585200      86       37.0           49.0   8.0       7.0\n",
       "3         3    772894     113       19.0           94.0   1.0       0.0\n",
       "4         4    774905      98       26.0           72.0  10.0       5.0\n",
       "...     ...       ...     ...        ...            ...   ...       ...\n",
       "1079   1079  98104668      96       35.0           61.0  17.0      12.0\n",
       "1080   1080  98400694      76       36.0           40.0   5.0       4.0\n",
       "1081   1081  99107038      96       17.0           79.0   6.0       4.0\n",
       "1082   1082  99677218      94       44.0           50.0  11.0       7.0\n",
       "1083   1083  99757138      74       16.0           58.0   1.0       1.0\n",
       "\n",
       "[1084 rows x 7 columns]"
      ]
     },
     "execution_count": 15,
     "metadata": {},
     "output_type": "execute_result"
    }
   ],
   "source": [
    "comp_rel(data, o)"
   ]
  },
  {
   "cell_type": "code",
   "execution_count": 16,
   "metadata": {},
   "outputs": [],
   "source": [
    "o['p(seen|i)']=o['seen']/o['rating'] #for the universe, it should be divided by the number of users"
   ]
  },
  {
   "cell_type": "code",
   "execution_count": 17,
   "metadata": {},
   "outputs": [],
   "source": [
    "o['p(rel|i)']= o['relevance']/o['rating']"
   ]
  },
  {
   "cell_type": "code",
   "execution_count": 18,
   "metadata": {},
   "outputs": [],
   "source": [
    "o['odds']=o['p(seen|i)']/(1-o['p(seen|i)'])"
   ]
  },
  {
   "cell_type": "code",
   "execution_count": 19,
   "metadata": {},
   "outputs": [],
   "source": [
    "o['p(rel|seen,i)']=o['seen_rel']/o['seen']"
   ]
  },
  {
   "cell_type": "markdown",
   "metadata": {},
   "source": [
    "optimal observed P"
   ]
  },
  {
   "cell_type": "code",
   "execution_count": 20,
   "metadata": {},
   "outputs": [],
   "source": [
    "o['phiP_obs']= o['p(rel|seen,i)'] * o['odds']"
   ]
  },
  {
   "cell_type": "markdown",
   "metadata": {},
   "source": [
    "optimal observed antiP"
   ]
  },
  {
   "cell_type": "code",
   "execution_count": 21,
   "metadata": {},
   "outputs": [],
   "source": [
    "o['phiAntiP_obs']= (o['p(rel|seen,i)']-1) * o['odds']"
   ]
  },
  {
   "cell_type": "markdown",
   "metadata": {},
   "source": [
    "optimal true P"
   ]
  },
  {
   "cell_type": "code",
   "execution_count": 22,
   "metadata": {},
   "outputs": [],
   "source": [
    "o['phiP_true']= (o['relevance']-o['seen_rel'])/(o['rating']-o['seen'])"
   ]
  },
  {
   "cell_type": "code",
   "execution_count": 23,
   "metadata": {},
   "outputs": [
    {
     "data": {
      "text/html": [
       "<div>\n",
       "<style scoped>\n",
       "    .dataframe tbody tr th:only-of-type {\n",
       "        vertical-align: middle;\n",
       "    }\n",
       "\n",
       "    .dataframe tbody tr th {\n",
       "        vertical-align: top;\n",
       "    }\n",
       "\n",
       "    .dataframe thead th {\n",
       "        text-align: right;\n",
       "    }\n",
       "</style>\n",
       "<table border=\"1\" class=\"dataframe\">\n",
       "  <thead>\n",
       "    <tr style=\"text-align: right;\">\n",
       "      <th></th>\n",
       "      <th>index</th>\n",
       "      <th>item_id</th>\n",
       "      <th>rating</th>\n",
       "      <th>relevance</th>\n",
       "      <th>non_relevance</th>\n",
       "      <th>seen</th>\n",
       "      <th>seen_rel</th>\n",
       "      <th>p(seen|i)</th>\n",
       "      <th>p(rel|i)</th>\n",
       "      <th>odds</th>\n",
       "      <th>p(rel|seen,i)</th>\n",
       "      <th>phiP_obs</th>\n",
       "      <th>phiAntiP_obs</th>\n",
       "      <th>phiP_true</th>\n",
       "    </tr>\n",
       "  </thead>\n",
       "  <tbody>\n",
       "    <tr>\n",
       "      <th>0</th>\n",
       "      <td>0</td>\n",
       "      <td>526229</td>\n",
       "      <td>75</td>\n",
       "      <td>18.0</td>\n",
       "      <td>57.0</td>\n",
       "      <td>4.0</td>\n",
       "      <td>1.0</td>\n",
       "      <td>0.053333</td>\n",
       "      <td>0.240000</td>\n",
       "      <td>0.056338</td>\n",
       "      <td>0.250000</td>\n",
       "      <td>0.014085</td>\n",
       "      <td>-0.042254</td>\n",
       "      <td>0.239437</td>\n",
       "    </tr>\n",
       "    <tr>\n",
       "      <th>1</th>\n",
       "      <td>1</td>\n",
       "      <td>536440</td>\n",
       "      <td>109</td>\n",
       "      <td>57.0</td>\n",
       "      <td>52.0</td>\n",
       "      <td>70.0</td>\n",
       "      <td>48.0</td>\n",
       "      <td>0.642202</td>\n",
       "      <td>0.522936</td>\n",
       "      <td>1.794872</td>\n",
       "      <td>0.685714</td>\n",
       "      <td>1.230769</td>\n",
       "      <td>-0.564103</td>\n",
       "      <td>0.230769</td>\n",
       "    </tr>\n",
       "    <tr>\n",
       "      <th>2</th>\n",
       "      <td>2</td>\n",
       "      <td>585200</td>\n",
       "      <td>86</td>\n",
       "      <td>37.0</td>\n",
       "      <td>49.0</td>\n",
       "      <td>8.0</td>\n",
       "      <td>7.0</td>\n",
       "      <td>0.093023</td>\n",
       "      <td>0.430233</td>\n",
       "      <td>0.102564</td>\n",
       "      <td>0.875000</td>\n",
       "      <td>0.089744</td>\n",
       "      <td>-0.012821</td>\n",
       "      <td>0.384615</td>\n",
       "    </tr>\n",
       "    <tr>\n",
       "      <th>3</th>\n",
       "      <td>3</td>\n",
       "      <td>772894</td>\n",
       "      <td>113</td>\n",
       "      <td>19.0</td>\n",
       "      <td>94.0</td>\n",
       "      <td>1.0</td>\n",
       "      <td>0.0</td>\n",
       "      <td>0.008850</td>\n",
       "      <td>0.168142</td>\n",
       "      <td>0.008929</td>\n",
       "      <td>0.000000</td>\n",
       "      <td>0.000000</td>\n",
       "      <td>-0.008929</td>\n",
       "      <td>0.169643</td>\n",
       "    </tr>\n",
       "    <tr>\n",
       "      <th>4</th>\n",
       "      <td>4</td>\n",
       "      <td>774905</td>\n",
       "      <td>98</td>\n",
       "      <td>26.0</td>\n",
       "      <td>72.0</td>\n",
       "      <td>10.0</td>\n",
       "      <td>5.0</td>\n",
       "      <td>0.102041</td>\n",
       "      <td>0.265306</td>\n",
       "      <td>0.113636</td>\n",
       "      <td>0.500000</td>\n",
       "      <td>0.056818</td>\n",
       "      <td>-0.056818</td>\n",
       "      <td>0.238636</td>\n",
       "    </tr>\n",
       "  </tbody>\n",
       "</table>\n",
       "</div>"
      ],
      "text/plain": [
       "   index  item_id  rating  relevance  non_relevance  seen  seen_rel  \\\n",
       "0      0   526229      75       18.0           57.0   4.0       1.0   \n",
       "1      1   536440     109       57.0           52.0  70.0      48.0   \n",
       "2      2   585200      86       37.0           49.0   8.0       7.0   \n",
       "3      3   772894     113       19.0           94.0   1.0       0.0   \n",
       "4      4   774905      98       26.0           72.0  10.0       5.0   \n",
       "\n",
       "   p(seen|i)  p(rel|i)      odds  p(rel|seen,i)  phiP_obs  phiAntiP_obs  \\\n",
       "0   0.053333  0.240000  0.056338       0.250000  0.014085     -0.042254   \n",
       "1   0.642202  0.522936  1.794872       0.685714  1.230769     -0.564103   \n",
       "2   0.093023  0.430233  0.102564       0.875000  0.089744     -0.012821   \n",
       "3   0.008850  0.168142  0.008929       0.000000  0.000000     -0.008929   \n",
       "4   0.102041  0.265306  0.113636       0.500000  0.056818     -0.056818   \n",
       "\n",
       "   phiP_true  \n",
       "0   0.239437  \n",
       "1   0.230769  \n",
       "2   0.384615  \n",
       "3   0.169643  \n",
       "4   0.238636  "
      ]
     },
     "execution_count": 23,
     "metadata": {},
     "output_type": "execute_result"
    }
   ],
   "source": [
    "o.head()"
   ]
  },
  {
   "cell_type": "markdown",
   "metadata": {},
   "source": [
    "items whose (all) ratings are not familiar. I do not consider these for the calculation of steepness and agreement"
   ]
  },
  {
   "cell_type": "code",
   "execution_count": 24,
   "metadata": {},
   "outputs": [
    {
     "data": {
      "text/plain": [
       "index            30\n",
       "item_id          30\n",
       "rating           30\n",
       "relevance        30\n",
       "non_relevance    30\n",
       "seen             30\n",
       "seen_rel         30\n",
       "p(seen|i)        30\n",
       "p(rel|i)         30\n",
       "odds             30\n",
       "p(rel|seen,i)     0\n",
       "phiP_obs          0\n",
       "phiAntiP_obs      0\n",
       "phiP_true        30\n",
       "dtype: int64"
      ]
     },
     "execution_count": 24,
     "metadata": {},
     "output_type": "execute_result"
    }
   ],
   "source": [
    "o.loc[o.seen == 0].count()"
   ]
  },
  {
   "cell_type": "code",
   "execution_count": 25,
   "metadata": {},
   "outputs": [
    {
     "data": {
      "text/html": [
       "<div>\n",
       "<style scoped>\n",
       "    .dataframe tbody tr th:only-of-type {\n",
       "        vertical-align: middle;\n",
       "    }\n",
       "\n",
       "    .dataframe tbody tr th {\n",
       "        vertical-align: top;\n",
       "    }\n",
       "\n",
       "    .dataframe thead th {\n",
       "        text-align: right;\n",
       "    }\n",
       "</style>\n",
       "<table border=\"1\" class=\"dataframe\">\n",
       "  <thead>\n",
       "    <tr style=\"text-align: right;\">\n",
       "      <th></th>\n",
       "      <th>index</th>\n",
       "      <th>item_id</th>\n",
       "      <th>rating</th>\n",
       "      <th>relevance</th>\n",
       "      <th>non_relevance</th>\n",
       "      <th>seen</th>\n",
       "      <th>seen_rel</th>\n",
       "      <th>p(seen|i)</th>\n",
       "      <th>p(rel|i)</th>\n",
       "      <th>odds</th>\n",
       "      <th>p(rel|seen,i)</th>\n",
       "      <th>phiP_obs</th>\n",
       "      <th>phiAntiP_obs</th>\n",
       "      <th>phiP_true</th>\n",
       "    </tr>\n",
       "  </thead>\n",
       "  <tbody>\n",
       "    <tr>\n",
       "      <th>8</th>\n",
       "      <td>8</td>\n",
       "      <td>1103326</td>\n",
       "      <td>90</td>\n",
       "      <td>15.0</td>\n",
       "      <td>75.0</td>\n",
       "      <td>0.0</td>\n",
       "      <td>0.0</td>\n",
       "      <td>0.0</td>\n",
       "      <td>0.166667</td>\n",
       "      <td>0.0</td>\n",
       "      <td>NaN</td>\n",
       "      <td>NaN</td>\n",
       "      <td>NaN</td>\n",
       "      <td>0.166667</td>\n",
       "    </tr>\n",
       "    <tr>\n",
       "      <th>25</th>\n",
       "      <td>25</td>\n",
       "      <td>1863914</td>\n",
       "      <td>99</td>\n",
       "      <td>8.0</td>\n",
       "      <td>91.0</td>\n",
       "      <td>0.0</td>\n",
       "      <td>0.0</td>\n",
       "      <td>0.0</td>\n",
       "      <td>0.080808</td>\n",
       "      <td>0.0</td>\n",
       "      <td>NaN</td>\n",
       "      <td>NaN</td>\n",
       "      <td>NaN</td>\n",
       "      <td>0.080808</td>\n",
       "    </tr>\n",
       "    <tr>\n",
       "      <th>149</th>\n",
       "      <td>149</td>\n",
       "      <td>7784560</td>\n",
       "      <td>89</td>\n",
       "      <td>7.0</td>\n",
       "      <td>82.0</td>\n",
       "      <td>0.0</td>\n",
       "      <td>0.0</td>\n",
       "      <td>0.0</td>\n",
       "      <td>0.078652</td>\n",
       "      <td>0.0</td>\n",
       "      <td>NaN</td>\n",
       "      <td>NaN</td>\n",
       "      <td>NaN</td>\n",
       "      <td>0.078652</td>\n",
       "    </tr>\n",
       "    <tr>\n",
       "      <th>190</th>\n",
       "      <td>190</td>\n",
       "      <td>9240886</td>\n",
       "      <td>84</td>\n",
       "      <td>7.0</td>\n",
       "      <td>77.0</td>\n",
       "      <td>0.0</td>\n",
       "      <td>0.0</td>\n",
       "      <td>0.0</td>\n",
       "      <td>0.083333</td>\n",
       "      <td>0.0</td>\n",
       "      <td>NaN</td>\n",
       "      <td>NaN</td>\n",
       "      <td>NaN</td>\n",
       "      <td>0.083333</td>\n",
       "    </tr>\n",
       "    <tr>\n",
       "      <th>224</th>\n",
       "      <td>224</td>\n",
       "      <td>11173693</td>\n",
       "      <td>95</td>\n",
       "      <td>18.0</td>\n",
       "      <td>77.0</td>\n",
       "      <td>0.0</td>\n",
       "      <td>0.0</td>\n",
       "      <td>0.0</td>\n",
       "      <td>0.189474</td>\n",
       "      <td>0.0</td>\n",
       "      <td>NaN</td>\n",
       "      <td>NaN</td>\n",
       "      <td>NaN</td>\n",
       "      <td>0.189474</td>\n",
       "    </tr>\n",
       "    <tr>\n",
       "      <th>399</th>\n",
       "      <td>399</td>\n",
       "      <td>29946871</td>\n",
       "      <td>79</td>\n",
       "      <td>3.0</td>\n",
       "      <td>76.0</td>\n",
       "      <td>0.0</td>\n",
       "      <td>0.0</td>\n",
       "      <td>0.0</td>\n",
       "      <td>0.037975</td>\n",
       "      <td>0.0</td>\n",
       "      <td>NaN</td>\n",
       "      <td>NaN</td>\n",
       "      <td>NaN</td>\n",
       "      <td>0.037975</td>\n",
       "    </tr>\n",
       "    <tr>\n",
       "      <th>425</th>\n",
       "      <td>425</td>\n",
       "      <td>43430201</td>\n",
       "      <td>93</td>\n",
       "      <td>7.0</td>\n",
       "      <td>86.0</td>\n",
       "      <td>0.0</td>\n",
       "      <td>0.0</td>\n",
       "      <td>0.0</td>\n",
       "      <td>0.075269</td>\n",
       "      <td>0.0</td>\n",
       "      <td>NaN</td>\n",
       "      <td>NaN</td>\n",
       "      <td>NaN</td>\n",
       "      <td>0.075269</td>\n",
       "    </tr>\n",
       "    <tr>\n",
       "      <th>473</th>\n",
       "      <td>473</td>\n",
       "      <td>60878713</td>\n",
       "      <td>87</td>\n",
       "      <td>13.0</td>\n",
       "      <td>74.0</td>\n",
       "      <td>0.0</td>\n",
       "      <td>0.0</td>\n",
       "      <td>0.0</td>\n",
       "      <td>0.149425</td>\n",
       "      <td>0.0</td>\n",
       "      <td>NaN</td>\n",
       "      <td>NaN</td>\n",
       "      <td>NaN</td>\n",
       "      <td>0.149425</td>\n",
       "    </tr>\n",
       "    <tr>\n",
       "      <th>495</th>\n",
       "      <td>495</td>\n",
       "      <td>61964403</td>\n",
       "      <td>107</td>\n",
       "      <td>14.0</td>\n",
       "      <td>93.0</td>\n",
       "      <td>0.0</td>\n",
       "      <td>0.0</td>\n",
       "      <td>0.0</td>\n",
       "      <td>0.130841</td>\n",
       "      <td>0.0</td>\n",
       "      <td>NaN</td>\n",
       "      <td>NaN</td>\n",
       "      <td>NaN</td>\n",
       "      <td>0.130841</td>\n",
       "    </tr>\n",
       "    <tr>\n",
       "      <th>518</th>\n",
       "      <td>518</td>\n",
       "      <td>63514338</td>\n",
       "      <td>104</td>\n",
       "      <td>12.0</td>\n",
       "      <td>92.0</td>\n",
       "      <td>0.0</td>\n",
       "      <td>0.0</td>\n",
       "      <td>0.0</td>\n",
       "      <td>0.115385</td>\n",
       "      <td>0.0</td>\n",
       "      <td>NaN</td>\n",
       "      <td>NaN</td>\n",
       "      <td>NaN</td>\n",
       "      <td>0.115385</td>\n",
       "    </tr>\n",
       "    <tr>\n",
       "      <th>521</th>\n",
       "      <td>521</td>\n",
       "      <td>63676154</td>\n",
       "      <td>112</td>\n",
       "      <td>14.0</td>\n",
       "      <td>98.0</td>\n",
       "      <td>0.0</td>\n",
       "      <td>0.0</td>\n",
       "      <td>0.0</td>\n",
       "      <td>0.125000</td>\n",
       "      <td>0.0</td>\n",
       "      <td>NaN</td>\n",
       "      <td>NaN</td>\n",
       "      <td>NaN</td>\n",
       "      <td>0.125000</td>\n",
       "    </tr>\n",
       "    <tr>\n",
       "      <th>535</th>\n",
       "      <td>535</td>\n",
       "      <td>64200398</td>\n",
       "      <td>94</td>\n",
       "      <td>18.0</td>\n",
       "      <td>76.0</td>\n",
       "      <td>0.0</td>\n",
       "      <td>0.0</td>\n",
       "      <td>0.0</td>\n",
       "      <td>0.191489</td>\n",
       "      <td>0.0</td>\n",
       "      <td>NaN</td>\n",
       "      <td>NaN</td>\n",
       "      <td>NaN</td>\n",
       "      <td>0.191489</td>\n",
       "    </tr>\n",
       "    <tr>\n",
       "      <th>540</th>\n",
       "      <td>540</td>\n",
       "      <td>64384132</td>\n",
       "      <td>101</td>\n",
       "      <td>22.0</td>\n",
       "      <td>79.0</td>\n",
       "      <td>0.0</td>\n",
       "      <td>0.0</td>\n",
       "      <td>0.0</td>\n",
       "      <td>0.217822</td>\n",
       "      <td>0.0</td>\n",
       "      <td>NaN</td>\n",
       "      <td>NaN</td>\n",
       "      <td>NaN</td>\n",
       "      <td>0.217822</td>\n",
       "    </tr>\n",
       "    <tr>\n",
       "      <th>553</th>\n",
       "      <td>553</td>\n",
       "      <td>65081458</td>\n",
       "      <td>95</td>\n",
       "      <td>17.0</td>\n",
       "      <td>78.0</td>\n",
       "      <td>0.0</td>\n",
       "      <td>0.0</td>\n",
       "      <td>0.0</td>\n",
       "      <td>0.178947</td>\n",
       "      <td>0.0</td>\n",
       "      <td>NaN</td>\n",
       "      <td>NaN</td>\n",
       "      <td>NaN</td>\n",
       "      <td>0.178947</td>\n",
       "    </tr>\n",
       "    <tr>\n",
       "      <th>605</th>\n",
       "      <td>605</td>\n",
       "      <td>67427521</td>\n",
       "      <td>78</td>\n",
       "      <td>8.0</td>\n",
       "      <td>70.0</td>\n",
       "      <td>0.0</td>\n",
       "      <td>0.0</td>\n",
       "      <td>0.0</td>\n",
       "      <td>0.102564</td>\n",
       "      <td>0.0</td>\n",
       "      <td>NaN</td>\n",
       "      <td>NaN</td>\n",
       "      <td>NaN</td>\n",
       "      <td>0.102564</td>\n",
       "    </tr>\n",
       "    <tr>\n",
       "      <th>626</th>\n",
       "      <td>626</td>\n",
       "      <td>68091989</td>\n",
       "      <td>80</td>\n",
       "      <td>7.0</td>\n",
       "      <td>73.0</td>\n",
       "      <td>0.0</td>\n",
       "      <td>0.0</td>\n",
       "      <td>0.0</td>\n",
       "      <td>0.087500</td>\n",
       "      <td>0.0</td>\n",
       "      <td>NaN</td>\n",
       "      <td>NaN</td>\n",
       "      <td>NaN</td>\n",
       "      <td>0.087500</td>\n",
       "    </tr>\n",
       "    <tr>\n",
       "      <th>637</th>\n",
       "      <td>637</td>\n",
       "      <td>68710493</td>\n",
       "      <td>78</td>\n",
       "      <td>11.0</td>\n",
       "      <td>67.0</td>\n",
       "      <td>0.0</td>\n",
       "      <td>0.0</td>\n",
       "      <td>0.0</td>\n",
       "      <td>0.141026</td>\n",
       "      <td>0.0</td>\n",
       "      <td>NaN</td>\n",
       "      <td>NaN</td>\n",
       "      <td>NaN</td>\n",
       "      <td>0.141026</td>\n",
       "    </tr>\n",
       "    <tr>\n",
       "      <th>696</th>\n",
       "      <td>696</td>\n",
       "      <td>71051592</td>\n",
       "      <td>101</td>\n",
       "      <td>13.0</td>\n",
       "      <td>88.0</td>\n",
       "      <td>0.0</td>\n",
       "      <td>0.0</td>\n",
       "      <td>0.0</td>\n",
       "      <td>0.128713</td>\n",
       "      <td>0.0</td>\n",
       "      <td>NaN</td>\n",
       "      <td>NaN</td>\n",
       "      <td>NaN</td>\n",
       "      <td>0.128713</td>\n",
       "    </tr>\n",
       "    <tr>\n",
       "      <th>718</th>\n",
       "      <td>718</td>\n",
       "      <td>71615450</td>\n",
       "      <td>101</td>\n",
       "      <td>20.0</td>\n",
       "      <td>81.0</td>\n",
       "      <td>0.0</td>\n",
       "      <td>0.0</td>\n",
       "      <td>0.0</td>\n",
       "      <td>0.198020</td>\n",
       "      <td>0.0</td>\n",
       "      <td>NaN</td>\n",
       "      <td>NaN</td>\n",
       "      <td>NaN</td>\n",
       "      <td>0.198020</td>\n",
       "    </tr>\n",
       "    <tr>\n",
       "      <th>752</th>\n",
       "      <td>752</td>\n",
       "      <td>72996973</td>\n",
       "      <td>113</td>\n",
       "      <td>20.0</td>\n",
       "      <td>93.0</td>\n",
       "      <td>0.0</td>\n",
       "      <td>0.0</td>\n",
       "      <td>0.0</td>\n",
       "      <td>0.176991</td>\n",
       "      <td>0.0</td>\n",
       "      <td>NaN</td>\n",
       "      <td>NaN</td>\n",
       "      <td>NaN</td>\n",
       "      <td>0.176991</td>\n",
       "    </tr>\n",
       "    <tr>\n",
       "      <th>818</th>\n",
       "      <td>818</td>\n",
       "      <td>75212845</td>\n",
       "      <td>97</td>\n",
       "      <td>11.0</td>\n",
       "      <td>86.0</td>\n",
       "      <td>0.0</td>\n",
       "      <td>0.0</td>\n",
       "      <td>0.0</td>\n",
       "      <td>0.113402</td>\n",
       "      <td>0.0</td>\n",
       "      <td>NaN</td>\n",
       "      <td>NaN</td>\n",
       "      <td>NaN</td>\n",
       "      <td>0.113402</td>\n",
       "    </tr>\n",
       "    <tr>\n",
       "      <th>819</th>\n",
       "      <td>819</td>\n",
       "      <td>75249221</td>\n",
       "      <td>86</td>\n",
       "      <td>18.0</td>\n",
       "      <td>68.0</td>\n",
       "      <td>0.0</td>\n",
       "      <td>0.0</td>\n",
       "      <td>0.0</td>\n",
       "      <td>0.209302</td>\n",
       "      <td>0.0</td>\n",
       "      <td>NaN</td>\n",
       "      <td>NaN</td>\n",
       "      <td>NaN</td>\n",
       "      <td>0.209302</td>\n",
       "    </tr>\n",
       "    <tr>\n",
       "      <th>822</th>\n",
       "      <td>822</td>\n",
       "      <td>75296739</td>\n",
       "      <td>111</td>\n",
       "      <td>6.0</td>\n",
       "      <td>105.0</td>\n",
       "      <td>0.0</td>\n",
       "      <td>0.0</td>\n",
       "      <td>0.0</td>\n",
       "      <td>0.054054</td>\n",
       "      <td>0.0</td>\n",
       "      <td>NaN</td>\n",
       "      <td>NaN</td>\n",
       "      <td>NaN</td>\n",
       "      <td>0.054054</td>\n",
       "    </tr>\n",
       "    <tr>\n",
       "      <th>916</th>\n",
       "      <td>916</td>\n",
       "      <td>79063887</td>\n",
       "      <td>116</td>\n",
       "      <td>1.0</td>\n",
       "      <td>115.0</td>\n",
       "      <td>0.0</td>\n",
       "      <td>0.0</td>\n",
       "      <td>0.0</td>\n",
       "      <td>0.008621</td>\n",
       "      <td>0.0</td>\n",
       "      <td>NaN</td>\n",
       "      <td>NaN</td>\n",
       "      <td>NaN</td>\n",
       "      <td>0.008621</td>\n",
       "    </tr>\n",
       "    <tr>\n",
       "      <th>929</th>\n",
       "      <td>929</td>\n",
       "      <td>80788398</td>\n",
       "      <td>96</td>\n",
       "      <td>9.0</td>\n",
       "      <td>87.0</td>\n",
       "      <td>0.0</td>\n",
       "      <td>0.0</td>\n",
       "      <td>0.0</td>\n",
       "      <td>0.093750</td>\n",
       "      <td>0.0</td>\n",
       "      <td>NaN</td>\n",
       "      <td>NaN</td>\n",
       "      <td>NaN</td>\n",
       "      <td>0.093750</td>\n",
       "    </tr>\n",
       "    <tr>\n",
       "      <th>1013</th>\n",
       "      <td>1013</td>\n",
       "      <td>87954089</td>\n",
       "      <td>101</td>\n",
       "      <td>27.0</td>\n",
       "      <td>74.0</td>\n",
       "      <td>0.0</td>\n",
       "      <td>0.0</td>\n",
       "      <td>0.0</td>\n",
       "      <td>0.267327</td>\n",
       "      <td>0.0</td>\n",
       "      <td>NaN</td>\n",
       "      <td>NaN</td>\n",
       "      <td>NaN</td>\n",
       "      <td>0.267327</td>\n",
       "    </tr>\n",
       "    <tr>\n",
       "      <th>1029</th>\n",
       "      <td>1029</td>\n",
       "      <td>89454833</td>\n",
       "      <td>89</td>\n",
       "      <td>18.0</td>\n",
       "      <td>71.0</td>\n",
       "      <td>0.0</td>\n",
       "      <td>0.0</td>\n",
       "      <td>0.0</td>\n",
       "      <td>0.202247</td>\n",
       "      <td>0.0</td>\n",
       "      <td>NaN</td>\n",
       "      <td>NaN</td>\n",
       "      <td>NaN</td>\n",
       "      <td>0.202247</td>\n",
       "    </tr>\n",
       "    <tr>\n",
       "      <th>1033</th>\n",
       "      <td>1033</td>\n",
       "      <td>89813133</td>\n",
       "      <td>90</td>\n",
       "      <td>15.0</td>\n",
       "      <td>75.0</td>\n",
       "      <td>0.0</td>\n",
       "      <td>0.0</td>\n",
       "      <td>0.0</td>\n",
       "      <td>0.166667</td>\n",
       "      <td>0.0</td>\n",
       "      <td>NaN</td>\n",
       "      <td>NaN</td>\n",
       "      <td>NaN</td>\n",
       "      <td>0.166667</td>\n",
       "    </tr>\n",
       "    <tr>\n",
       "      <th>1041</th>\n",
       "      <td>1041</td>\n",
       "      <td>90117913</td>\n",
       "      <td>89</td>\n",
       "      <td>7.0</td>\n",
       "      <td>82.0</td>\n",
       "      <td>0.0</td>\n",
       "      <td>0.0</td>\n",
       "      <td>0.0</td>\n",
       "      <td>0.078652</td>\n",
       "      <td>0.0</td>\n",
       "      <td>NaN</td>\n",
       "      <td>NaN</td>\n",
       "      <td>NaN</td>\n",
       "      <td>0.078652</td>\n",
       "    </tr>\n",
       "    <tr>\n",
       "      <th>1043</th>\n",
       "      <td>1043</td>\n",
       "      <td>90256929</td>\n",
       "      <td>83</td>\n",
       "      <td>9.0</td>\n",
       "      <td>74.0</td>\n",
       "      <td>0.0</td>\n",
       "      <td>0.0</td>\n",
       "      <td>0.0</td>\n",
       "      <td>0.108434</td>\n",
       "      <td>0.0</td>\n",
       "      <td>NaN</td>\n",
       "      <td>NaN</td>\n",
       "      <td>NaN</td>\n",
       "      <td>0.108434</td>\n",
       "    </tr>\n",
       "  </tbody>\n",
       "</table>\n",
       "</div>"
      ],
      "text/plain": [
       "      index   item_id  rating  relevance  non_relevance  seen  seen_rel  \\\n",
       "8         8   1103326      90       15.0           75.0   0.0       0.0   \n",
       "25       25   1863914      99        8.0           91.0   0.0       0.0   \n",
       "149     149   7784560      89        7.0           82.0   0.0       0.0   \n",
       "190     190   9240886      84        7.0           77.0   0.0       0.0   \n",
       "224     224  11173693      95       18.0           77.0   0.0       0.0   \n",
       "399     399  29946871      79        3.0           76.0   0.0       0.0   \n",
       "425     425  43430201      93        7.0           86.0   0.0       0.0   \n",
       "473     473  60878713      87       13.0           74.0   0.0       0.0   \n",
       "495     495  61964403     107       14.0           93.0   0.0       0.0   \n",
       "518     518  63514338     104       12.0           92.0   0.0       0.0   \n",
       "521     521  63676154     112       14.0           98.0   0.0       0.0   \n",
       "535     535  64200398      94       18.0           76.0   0.0       0.0   \n",
       "540     540  64384132     101       22.0           79.0   0.0       0.0   \n",
       "553     553  65081458      95       17.0           78.0   0.0       0.0   \n",
       "605     605  67427521      78        8.0           70.0   0.0       0.0   \n",
       "626     626  68091989      80        7.0           73.0   0.0       0.0   \n",
       "637     637  68710493      78       11.0           67.0   0.0       0.0   \n",
       "696     696  71051592     101       13.0           88.0   0.0       0.0   \n",
       "718     718  71615450     101       20.0           81.0   0.0       0.0   \n",
       "752     752  72996973     113       20.0           93.0   0.0       0.0   \n",
       "818     818  75212845      97       11.0           86.0   0.0       0.0   \n",
       "819     819  75249221      86       18.0           68.0   0.0       0.0   \n",
       "822     822  75296739     111        6.0          105.0   0.0       0.0   \n",
       "916     916  79063887     116        1.0          115.0   0.0       0.0   \n",
       "929     929  80788398      96        9.0           87.0   0.0       0.0   \n",
       "1013   1013  87954089     101       27.0           74.0   0.0       0.0   \n",
       "1029   1029  89454833      89       18.0           71.0   0.0       0.0   \n",
       "1033   1033  89813133      90       15.0           75.0   0.0       0.0   \n",
       "1041   1041  90117913      89        7.0           82.0   0.0       0.0   \n",
       "1043   1043  90256929      83        9.0           74.0   0.0       0.0   \n",
       "\n",
       "      p(seen|i)  p(rel|i)  odds  p(rel|seen,i)  phiP_obs  phiAntiP_obs  \\\n",
       "8           0.0  0.166667   0.0            NaN       NaN           NaN   \n",
       "25          0.0  0.080808   0.0            NaN       NaN           NaN   \n",
       "149         0.0  0.078652   0.0            NaN       NaN           NaN   \n",
       "190         0.0  0.083333   0.0            NaN       NaN           NaN   \n",
       "224         0.0  0.189474   0.0            NaN       NaN           NaN   \n",
       "399         0.0  0.037975   0.0            NaN       NaN           NaN   \n",
       "425         0.0  0.075269   0.0            NaN       NaN           NaN   \n",
       "473         0.0  0.149425   0.0            NaN       NaN           NaN   \n",
       "495         0.0  0.130841   0.0            NaN       NaN           NaN   \n",
       "518         0.0  0.115385   0.0            NaN       NaN           NaN   \n",
       "521         0.0  0.125000   0.0            NaN       NaN           NaN   \n",
       "535         0.0  0.191489   0.0            NaN       NaN           NaN   \n",
       "540         0.0  0.217822   0.0            NaN       NaN           NaN   \n",
       "553         0.0  0.178947   0.0            NaN       NaN           NaN   \n",
       "605         0.0  0.102564   0.0            NaN       NaN           NaN   \n",
       "626         0.0  0.087500   0.0            NaN       NaN           NaN   \n",
       "637         0.0  0.141026   0.0            NaN       NaN           NaN   \n",
       "696         0.0  0.128713   0.0            NaN       NaN           NaN   \n",
       "718         0.0  0.198020   0.0            NaN       NaN           NaN   \n",
       "752         0.0  0.176991   0.0            NaN       NaN           NaN   \n",
       "818         0.0  0.113402   0.0            NaN       NaN           NaN   \n",
       "819         0.0  0.209302   0.0            NaN       NaN           NaN   \n",
       "822         0.0  0.054054   0.0            NaN       NaN           NaN   \n",
       "916         0.0  0.008621   0.0            NaN       NaN           NaN   \n",
       "929         0.0  0.093750   0.0            NaN       NaN           NaN   \n",
       "1013        0.0  0.267327   0.0            NaN       NaN           NaN   \n",
       "1029        0.0  0.202247   0.0            NaN       NaN           NaN   \n",
       "1033        0.0  0.166667   0.0            NaN       NaN           NaN   \n",
       "1041        0.0  0.078652   0.0            NaN       NaN           NaN   \n",
       "1043        0.0  0.108434   0.0            NaN       NaN           NaN   \n",
       "\n",
       "      phiP_true  \n",
       "8      0.166667  \n",
       "25     0.080808  \n",
       "149    0.078652  \n",
       "190    0.083333  \n",
       "224    0.189474  \n",
       "399    0.037975  \n",
       "425    0.075269  \n",
       "473    0.149425  \n",
       "495    0.130841  \n",
       "518    0.115385  \n",
       "521    0.125000  \n",
       "535    0.191489  \n",
       "540    0.217822  \n",
       "553    0.178947  \n",
       "605    0.102564  \n",
       "626    0.087500  \n",
       "637    0.141026  \n",
       "696    0.128713  \n",
       "718    0.198020  \n",
       "752    0.176991  \n",
       "818    0.113402  \n",
       "819    0.209302  \n",
       "822    0.054054  \n",
       "916    0.008621  \n",
       "929    0.093750  \n",
       "1013   0.267327  \n",
       "1029   0.202247  \n",
       "1033   0.166667  \n",
       "1041   0.078652  \n",
       "1043   0.108434  "
      ]
     },
     "execution_count": 25,
     "metadata": {},
     "output_type": "execute_result"
    }
   ],
   "source": [
    "o.loc[o.seen == 0]"
   ]
  },
  {
   "cell_type": "markdown",
   "metadata": {},
   "source": [
    "these items are not taken into account for the calculation of steepness and agreement as they have nan or zero values in some of the probabilities and functions"
   ]
  },
  {
   "cell_type": "code",
   "execution_count": 26,
   "metadata": {},
   "outputs": [
    {
     "data": {
      "text/plain": [
       "1084"
      ]
     },
     "execution_count": 26,
     "metadata": {},
     "output_type": "execute_result"
    }
   ],
   "source": [
    "len(o)"
   ]
  },
  {
   "cell_type": "code",
   "execution_count": 27,
   "metadata": {},
   "outputs": [
    {
     "data": {
      "text/plain": [
       "1054"
      ]
     },
     "execution_count": 27,
     "metadata": {},
     "output_type": "execute_result"
    }
   ],
   "source": [
    "len(o.loc[~(o.seen == 0)])"
   ]
  },
  {
   "cell_type": "markdown",
   "metadata": {},
   "source": [
    "------------------------"
   ]
  },
  {
   "cell_type": "markdown",
   "metadata": {},
   "source": [
    "filter out items that have (zero) seen ratings, that is, i get items with at least (one) seen rating"
   ]
  },
  {
   "cell_type": "code",
   "execution_count": 28,
   "metadata": {},
   "outputs": [],
   "source": [
    "seen_items=o[o.seen>0][['item_id','p(rel|seen,i)','p(rel|i)','odds','phiP_obs','phiAntiP_obs','phiP_true']]"
   ]
  },
  {
   "cell_type": "code",
   "execution_count": 29,
   "metadata": {},
   "outputs": [
    {
     "data": {
      "text/html": [
       "<div>\n",
       "<style scoped>\n",
       "    .dataframe tbody tr th:only-of-type {\n",
       "        vertical-align: middle;\n",
       "    }\n",
       "\n",
       "    .dataframe tbody tr th {\n",
       "        vertical-align: top;\n",
       "    }\n",
       "\n",
       "    .dataframe thead th {\n",
       "        text-align: right;\n",
       "    }\n",
       "</style>\n",
       "<table border=\"1\" class=\"dataframe\">\n",
       "  <thead>\n",
       "    <tr style=\"text-align: right;\">\n",
       "      <th></th>\n",
       "      <th>item_id</th>\n",
       "      <th>p(rel|seen,i)</th>\n",
       "      <th>p(rel|i)</th>\n",
       "      <th>odds</th>\n",
       "      <th>phiP_obs</th>\n",
       "      <th>phiAntiP_obs</th>\n",
       "      <th>phiP_true</th>\n",
       "    </tr>\n",
       "  </thead>\n",
       "  <tbody>\n",
       "    <tr>\n",
       "      <th>0</th>\n",
       "      <td>526229</td>\n",
       "      <td>0.250000</td>\n",
       "      <td>0.240000</td>\n",
       "      <td>0.056338</td>\n",
       "      <td>0.014085</td>\n",
       "      <td>-0.042254</td>\n",
       "      <td>0.239437</td>\n",
       "    </tr>\n",
       "    <tr>\n",
       "      <th>1</th>\n",
       "      <td>536440</td>\n",
       "      <td>0.685714</td>\n",
       "      <td>0.522936</td>\n",
       "      <td>1.794872</td>\n",
       "      <td>1.230769</td>\n",
       "      <td>-0.564103</td>\n",
       "      <td>0.230769</td>\n",
       "    </tr>\n",
       "    <tr>\n",
       "      <th>2</th>\n",
       "      <td>585200</td>\n",
       "      <td>0.875000</td>\n",
       "      <td>0.430233</td>\n",
       "      <td>0.102564</td>\n",
       "      <td>0.089744</td>\n",
       "      <td>-0.012821</td>\n",
       "      <td>0.384615</td>\n",
       "    </tr>\n",
       "    <tr>\n",
       "      <th>3</th>\n",
       "      <td>772894</td>\n",
       "      <td>0.000000</td>\n",
       "      <td>0.168142</td>\n",
       "      <td>0.008929</td>\n",
       "      <td>0.000000</td>\n",
       "      <td>-0.008929</td>\n",
       "      <td>0.169643</td>\n",
       "    </tr>\n",
       "    <tr>\n",
       "      <th>4</th>\n",
       "      <td>774905</td>\n",
       "      <td>0.500000</td>\n",
       "      <td>0.265306</td>\n",
       "      <td>0.113636</td>\n",
       "      <td>0.056818</td>\n",
       "      <td>-0.056818</td>\n",
       "      <td>0.238636</td>\n",
       "    </tr>\n",
       "  </tbody>\n",
       "</table>\n",
       "</div>"
      ],
      "text/plain": [
       "   item_id  p(rel|seen,i)  p(rel|i)      odds  phiP_obs  phiAntiP_obs  \\\n",
       "0   526229       0.250000  0.240000  0.056338  0.014085     -0.042254   \n",
       "1   536440       0.685714  0.522936  1.794872  1.230769     -0.564103   \n",
       "2   585200       0.875000  0.430233  0.102564  0.089744     -0.012821   \n",
       "3   772894       0.000000  0.168142  0.008929  0.000000     -0.008929   \n",
       "4   774905       0.500000  0.265306  0.113636  0.056818     -0.056818   \n",
       "\n",
       "   phiP_true  \n",
       "0   0.239437  \n",
       "1   0.230769  \n",
       "2   0.384615  \n",
       "3   0.169643  \n",
       "4   0.238636  "
      ]
     },
     "execution_count": 29,
     "metadata": {},
     "output_type": "execute_result"
    }
   ],
   "source": [
    "seen_items.head()"
   ]
  },
  {
   "cell_type": "markdown",
   "metadata": {},
   "source": [
    "#### The next line is super important because the index is not ordered (some items were filtered out), so need to reset index to order everything again\n",
    "The merge function will work based on the index (so it needs to be sorted)"
   ]
  },
  {
   "cell_type": "code",
   "execution_count": 30,
   "metadata": {},
   "outputs": [],
   "source": [
    "seen_items.reset_index(drop=True,inplace=True) "
   ]
  },
  {
   "cell_type": "code",
   "execution_count": 31,
   "metadata": {},
   "outputs": [
    {
     "data": {
      "text/html": [
       "<div>\n",
       "<style scoped>\n",
       "    .dataframe tbody tr th:only-of-type {\n",
       "        vertical-align: middle;\n",
       "    }\n",
       "\n",
       "    .dataframe tbody tr th {\n",
       "        vertical-align: top;\n",
       "    }\n",
       "\n",
       "    .dataframe thead th {\n",
       "        text-align: right;\n",
       "    }\n",
       "</style>\n",
       "<table border=\"1\" class=\"dataframe\">\n",
       "  <thead>\n",
       "    <tr style=\"text-align: right;\">\n",
       "      <th></th>\n",
       "      <th>item_id</th>\n",
       "      <th>p(rel|seen,i)</th>\n",
       "      <th>p(rel|i)</th>\n",
       "      <th>odds</th>\n",
       "      <th>phiP_obs</th>\n",
       "      <th>phiAntiP_obs</th>\n",
       "      <th>phiP_true</th>\n",
       "    </tr>\n",
       "  </thead>\n",
       "  <tbody>\n",
       "    <tr>\n",
       "      <th>1040</th>\n",
       "      <td>93970958</td>\n",
       "      <td>0.818182</td>\n",
       "      <td>0.598039</td>\n",
       "      <td>0.120879</td>\n",
       "      <td>0.098901</td>\n",
       "      <td>-0.021978</td>\n",
       "      <td>0.571429</td>\n",
       "    </tr>\n",
       "    <tr>\n",
       "      <th>1041</th>\n",
       "      <td>94073932</td>\n",
       "      <td>0.000000</td>\n",
       "      <td>0.204301</td>\n",
       "      <td>0.033333</td>\n",
       "      <td>0.000000</td>\n",
       "      <td>-0.033333</td>\n",
       "      <td>0.211111</td>\n",
       "    </tr>\n",
       "    <tr>\n",
       "      <th>1042</th>\n",
       "      <td>94436884</td>\n",
       "      <td>0.666667</td>\n",
       "      <td>0.250000</td>\n",
       "      <td>0.033708</td>\n",
       "      <td>0.022472</td>\n",
       "      <td>-0.011236</td>\n",
       "      <td>0.235955</td>\n",
       "    </tr>\n",
       "    <tr>\n",
       "      <th>1043</th>\n",
       "      <td>94636848</td>\n",
       "      <td>0.875000</td>\n",
       "      <td>0.398058</td>\n",
       "      <td>0.084211</td>\n",
       "      <td>0.073684</td>\n",
       "      <td>-0.010526</td>\n",
       "      <td>0.357895</td>\n",
       "    </tr>\n",
       "    <tr>\n",
       "      <th>1044</th>\n",
       "      <td>94914090</td>\n",
       "      <td>1.000000</td>\n",
       "      <td>0.262136</td>\n",
       "      <td>0.009804</td>\n",
       "      <td>0.009804</td>\n",
       "      <td>0.000000</td>\n",
       "      <td>0.254902</td>\n",
       "    </tr>\n",
       "    <tr>\n",
       "      <th>1045</th>\n",
       "      <td>95955228</td>\n",
       "      <td>1.000000</td>\n",
       "      <td>0.271605</td>\n",
       "      <td>0.012500</td>\n",
       "      <td>0.012500</td>\n",
       "      <td>0.000000</td>\n",
       "      <td>0.262500</td>\n",
       "    </tr>\n",
       "    <tr>\n",
       "      <th>1046</th>\n",
       "      <td>96246640</td>\n",
       "      <td>0.500000</td>\n",
       "      <td>0.247312</td>\n",
       "      <td>0.044944</td>\n",
       "      <td>0.022472</td>\n",
       "      <td>-0.022472</td>\n",
       "      <td>0.235955</td>\n",
       "    </tr>\n",
       "    <tr>\n",
       "      <th>1047</th>\n",
       "      <td>96254942</td>\n",
       "      <td>0.333333</td>\n",
       "      <td>0.188119</td>\n",
       "      <td>0.030612</td>\n",
       "      <td>0.010204</td>\n",
       "      <td>-0.020408</td>\n",
       "      <td>0.183673</td>\n",
       "    </tr>\n",
       "    <tr>\n",
       "      <th>1048</th>\n",
       "      <td>97774228</td>\n",
       "      <td>0.500000</td>\n",
       "      <td>0.140000</td>\n",
       "      <td>0.086957</td>\n",
       "      <td>0.043478</td>\n",
       "      <td>-0.043478</td>\n",
       "      <td>0.108696</td>\n",
       "    </tr>\n",
       "    <tr>\n",
       "      <th>1049</th>\n",
       "      <td>98104668</td>\n",
       "      <td>0.705882</td>\n",
       "      <td>0.364583</td>\n",
       "      <td>0.215190</td>\n",
       "      <td>0.151899</td>\n",
       "      <td>-0.063291</td>\n",
       "      <td>0.291139</td>\n",
       "    </tr>\n",
       "    <tr>\n",
       "      <th>1050</th>\n",
       "      <td>98400694</td>\n",
       "      <td>0.800000</td>\n",
       "      <td>0.473684</td>\n",
       "      <td>0.070423</td>\n",
       "      <td>0.056338</td>\n",
       "      <td>-0.014085</td>\n",
       "      <td>0.450704</td>\n",
       "    </tr>\n",
       "    <tr>\n",
       "      <th>1051</th>\n",
       "      <td>99107038</td>\n",
       "      <td>0.666667</td>\n",
       "      <td>0.177083</td>\n",
       "      <td>0.066667</td>\n",
       "      <td>0.044444</td>\n",
       "      <td>-0.022222</td>\n",
       "      <td>0.144444</td>\n",
       "    </tr>\n",
       "    <tr>\n",
       "      <th>1052</th>\n",
       "      <td>99677218</td>\n",
       "      <td>0.636364</td>\n",
       "      <td>0.468085</td>\n",
       "      <td>0.132530</td>\n",
       "      <td>0.084337</td>\n",
       "      <td>-0.048193</td>\n",
       "      <td>0.445783</td>\n",
       "    </tr>\n",
       "    <tr>\n",
       "      <th>1053</th>\n",
       "      <td>99757138</td>\n",
       "      <td>1.000000</td>\n",
       "      <td>0.216216</td>\n",
       "      <td>0.013699</td>\n",
       "      <td>0.013699</td>\n",
       "      <td>0.000000</td>\n",
       "      <td>0.205479</td>\n",
       "    </tr>\n",
       "  </tbody>\n",
       "</table>\n",
       "</div>"
      ],
      "text/plain": [
       "       item_id  p(rel|seen,i)  p(rel|i)      odds  phiP_obs  phiAntiP_obs  \\\n",
       "1040  93970958       0.818182  0.598039  0.120879  0.098901     -0.021978   \n",
       "1041  94073932       0.000000  0.204301  0.033333  0.000000     -0.033333   \n",
       "1042  94436884       0.666667  0.250000  0.033708  0.022472     -0.011236   \n",
       "1043  94636848       0.875000  0.398058  0.084211  0.073684     -0.010526   \n",
       "1044  94914090       1.000000  0.262136  0.009804  0.009804      0.000000   \n",
       "1045  95955228       1.000000  0.271605  0.012500  0.012500      0.000000   \n",
       "1046  96246640       0.500000  0.247312  0.044944  0.022472     -0.022472   \n",
       "1047  96254942       0.333333  0.188119  0.030612  0.010204     -0.020408   \n",
       "1048  97774228       0.500000  0.140000  0.086957  0.043478     -0.043478   \n",
       "1049  98104668       0.705882  0.364583  0.215190  0.151899     -0.063291   \n",
       "1050  98400694       0.800000  0.473684  0.070423  0.056338     -0.014085   \n",
       "1051  99107038       0.666667  0.177083  0.066667  0.044444     -0.022222   \n",
       "1052  99677218       0.636364  0.468085  0.132530  0.084337     -0.048193   \n",
       "1053  99757138       1.000000  0.216216  0.013699  0.013699      0.000000   \n",
       "\n",
       "      phiP_true  \n",
       "1040   0.571429  \n",
       "1041   0.211111  \n",
       "1042   0.235955  \n",
       "1043   0.357895  \n",
       "1044   0.254902  \n",
       "1045   0.262500  \n",
       "1046   0.235955  \n",
       "1047   0.183673  \n",
       "1048   0.108696  \n",
       "1049   0.291139  \n",
       "1050   0.450704  \n",
       "1051   0.144444  \n",
       "1052   0.445783  \n",
       "1053   0.205479  "
      ]
     },
     "execution_count": 31,
     "metadata": {},
     "output_type": "execute_result"
    }
   ],
   "source": [
    "seen_items.loc[1040:1054]"
   ]
  },
  {
   "cell_type": "markdown",
   "metadata": {},
   "source": [
    "generate item combinations"
   ]
  },
  {
   "cell_type": "code",
   "execution_count": 32,
   "metadata": {},
   "outputs": [],
   "source": [
    "import itertools as it\n",
    "combinations=pd.DataFrame(list(it.combinations(list(range(len(seen_items))),2))) "
   ]
  },
  {
   "cell_type": "code",
   "execution_count": 33,
   "metadata": {},
   "outputs": [],
   "source": [
    "combinations.columns = ['a','b']"
   ]
  },
  {
   "cell_type": "code",
   "execution_count": 34,
   "metadata": {},
   "outputs": [
    {
     "data": {
      "text/plain": [
       "554931"
      ]
     },
     "execution_count": 34,
     "metadata": {},
     "output_type": "execute_result"
    }
   ],
   "source": [
    "len(combinations)"
   ]
  },
  {
   "cell_type": "code",
   "execution_count": 35,
   "metadata": {},
   "outputs": [],
   "source": [
    "ma = pd.merge(combinations,seen_items,left_on='a',right_index=True, how='left') #merge with 1st item (a)"
   ]
  },
  {
   "cell_type": "code",
   "execution_count": 36,
   "metadata": {},
   "outputs": [
    {
     "data": {
      "text/html": [
       "<div>\n",
       "<style scoped>\n",
       "    .dataframe tbody tr th:only-of-type {\n",
       "        vertical-align: middle;\n",
       "    }\n",
       "\n",
       "    .dataframe tbody tr th {\n",
       "        vertical-align: top;\n",
       "    }\n",
       "\n",
       "    .dataframe thead th {\n",
       "        text-align: right;\n",
       "    }\n",
       "</style>\n",
       "<table border=\"1\" class=\"dataframe\">\n",
       "  <thead>\n",
       "    <tr style=\"text-align: right;\">\n",
       "      <th></th>\n",
       "      <th>a</th>\n",
       "      <th>b</th>\n",
       "      <th>item_id</th>\n",
       "      <th>p(rel|seen,i)</th>\n",
       "      <th>p(rel|i)</th>\n",
       "      <th>odds</th>\n",
       "      <th>phiP_obs</th>\n",
       "      <th>phiAntiP_obs</th>\n",
       "      <th>phiP_true</th>\n",
       "    </tr>\n",
       "  </thead>\n",
       "  <tbody>\n",
       "    <tr>\n",
       "      <th>0</th>\n",
       "      <td>0</td>\n",
       "      <td>1</td>\n",
       "      <td>526229</td>\n",
       "      <td>0.25</td>\n",
       "      <td>0.24</td>\n",
       "      <td>0.056338</td>\n",
       "      <td>0.014085</td>\n",
       "      <td>-0.042254</td>\n",
       "      <td>0.239437</td>\n",
       "    </tr>\n",
       "    <tr>\n",
       "      <th>1</th>\n",
       "      <td>0</td>\n",
       "      <td>2</td>\n",
       "      <td>526229</td>\n",
       "      <td>0.25</td>\n",
       "      <td>0.24</td>\n",
       "      <td>0.056338</td>\n",
       "      <td>0.014085</td>\n",
       "      <td>-0.042254</td>\n",
       "      <td>0.239437</td>\n",
       "    </tr>\n",
       "    <tr>\n",
       "      <th>2</th>\n",
       "      <td>0</td>\n",
       "      <td>3</td>\n",
       "      <td>526229</td>\n",
       "      <td>0.25</td>\n",
       "      <td>0.24</td>\n",
       "      <td>0.056338</td>\n",
       "      <td>0.014085</td>\n",
       "      <td>-0.042254</td>\n",
       "      <td>0.239437</td>\n",
       "    </tr>\n",
       "    <tr>\n",
       "      <th>3</th>\n",
       "      <td>0</td>\n",
       "      <td>4</td>\n",
       "      <td>526229</td>\n",
       "      <td>0.25</td>\n",
       "      <td>0.24</td>\n",
       "      <td>0.056338</td>\n",
       "      <td>0.014085</td>\n",
       "      <td>-0.042254</td>\n",
       "      <td>0.239437</td>\n",
       "    </tr>\n",
       "    <tr>\n",
       "      <th>4</th>\n",
       "      <td>0</td>\n",
       "      <td>5</td>\n",
       "      <td>526229</td>\n",
       "      <td>0.25</td>\n",
       "      <td>0.24</td>\n",
       "      <td>0.056338</td>\n",
       "      <td>0.014085</td>\n",
       "      <td>-0.042254</td>\n",
       "      <td>0.239437</td>\n",
       "    </tr>\n",
       "  </tbody>\n",
       "</table>\n",
       "</div>"
      ],
      "text/plain": [
       "   a  b  item_id  p(rel|seen,i)  p(rel|i)      odds  phiP_obs  phiAntiP_obs  \\\n",
       "0  0  1   526229           0.25      0.24  0.056338  0.014085     -0.042254   \n",
       "1  0  2   526229           0.25      0.24  0.056338  0.014085     -0.042254   \n",
       "2  0  3   526229           0.25      0.24  0.056338  0.014085     -0.042254   \n",
       "3  0  4   526229           0.25      0.24  0.056338  0.014085     -0.042254   \n",
       "4  0  5   526229           0.25      0.24  0.056338  0.014085     -0.042254   \n",
       "\n",
       "   phiP_true  \n",
       "0   0.239437  \n",
       "1   0.239437  \n",
       "2   0.239437  \n",
       "3   0.239437  \n",
       "4   0.239437  "
      ]
     },
     "execution_count": 36,
     "metadata": {},
     "output_type": "execute_result"
    }
   ],
   "source": [
    "ma.head()"
   ]
  },
  {
   "cell_type": "code",
   "execution_count": 37,
   "metadata": {},
   "outputs": [
    {
     "data": {
      "text/html": [
       "<div>\n",
       "<style scoped>\n",
       "    .dataframe tbody tr th:only-of-type {\n",
       "        vertical-align: middle;\n",
       "    }\n",
       "\n",
       "    .dataframe tbody tr th {\n",
       "        vertical-align: top;\n",
       "    }\n",
       "\n",
       "    .dataframe thead th {\n",
       "        text-align: right;\n",
       "    }\n",
       "</style>\n",
       "<table border=\"1\" class=\"dataframe\">\n",
       "  <thead>\n",
       "    <tr style=\"text-align: right;\">\n",
       "      <th></th>\n",
       "      <th>a</th>\n",
       "      <th>b</th>\n",
       "      <th>item_id</th>\n",
       "      <th>p(rel|seen,i)</th>\n",
       "      <th>p(rel|i)</th>\n",
       "      <th>odds</th>\n",
       "      <th>phiP_obs</th>\n",
       "      <th>phiAntiP_obs</th>\n",
       "      <th>phiP_true</th>\n",
       "    </tr>\n",
       "  </thead>\n",
       "  <tbody>\n",
       "  </tbody>\n",
       "</table>\n",
       "</div>"
      ],
      "text/plain": [
       "Empty DataFrame\n",
       "Columns: [a, b, item_id, p(rel|seen,i), p(rel|i), odds, phiP_obs, phiAntiP_obs, phiP_true]\n",
       "Index: []"
      ]
     },
     "execution_count": 37,
     "metadata": {},
     "output_type": "execute_result"
    }
   ],
   "source": [
    "ma[ma.odds.isnull()] #to check whether there are null items (wrong merge happens when index is not in order)"
   ]
  },
  {
   "cell_type": "code",
   "execution_count": 38,
   "metadata": {},
   "outputs": [],
   "source": [
    "mab = pd.merge(ma,seen_items,left_on='b',right_index=True, how='left',suffixes=('_a', '_b')) #merge with 1st item (a)"
   ]
  },
  {
   "cell_type": "code",
   "execution_count": 39,
   "metadata": {},
   "outputs": [
    {
     "data": {
      "text/html": [
       "<div>\n",
       "<style scoped>\n",
       "    .dataframe tbody tr th:only-of-type {\n",
       "        vertical-align: middle;\n",
       "    }\n",
       "\n",
       "    .dataframe tbody tr th {\n",
       "        vertical-align: top;\n",
       "    }\n",
       "\n",
       "    .dataframe thead th {\n",
       "        text-align: right;\n",
       "    }\n",
       "</style>\n",
       "<table border=\"1\" class=\"dataframe\">\n",
       "  <thead>\n",
       "    <tr style=\"text-align: right;\">\n",
       "      <th></th>\n",
       "      <th>a</th>\n",
       "      <th>b</th>\n",
       "      <th>item_id_a</th>\n",
       "      <th>p(rel|seen,i)_a</th>\n",
       "      <th>p(rel|i)_a</th>\n",
       "      <th>odds_a</th>\n",
       "      <th>phiP_obs_a</th>\n",
       "      <th>phiAntiP_obs_a</th>\n",
       "      <th>phiP_true_a</th>\n",
       "      <th>item_id_b</th>\n",
       "      <th>p(rel|seen,i)_b</th>\n",
       "      <th>p(rel|i)_b</th>\n",
       "      <th>odds_b</th>\n",
       "      <th>phiP_obs_b</th>\n",
       "      <th>phiAntiP_obs_b</th>\n",
       "      <th>phiP_true_b</th>\n",
       "    </tr>\n",
       "  </thead>\n",
       "  <tbody>\n",
       "    <tr>\n",
       "      <th>0</th>\n",
       "      <td>0</td>\n",
       "      <td>1</td>\n",
       "      <td>526229</td>\n",
       "      <td>0.25</td>\n",
       "      <td>0.24</td>\n",
       "      <td>0.056338</td>\n",
       "      <td>0.014085</td>\n",
       "      <td>-0.042254</td>\n",
       "      <td>0.239437</td>\n",
       "      <td>536440</td>\n",
       "      <td>0.685714</td>\n",
       "      <td>0.522936</td>\n",
       "      <td>1.794872</td>\n",
       "      <td>1.230769</td>\n",
       "      <td>-0.564103</td>\n",
       "      <td>0.230769</td>\n",
       "    </tr>\n",
       "    <tr>\n",
       "      <th>1</th>\n",
       "      <td>0</td>\n",
       "      <td>2</td>\n",
       "      <td>526229</td>\n",
       "      <td>0.25</td>\n",
       "      <td>0.24</td>\n",
       "      <td>0.056338</td>\n",
       "      <td>0.014085</td>\n",
       "      <td>-0.042254</td>\n",
       "      <td>0.239437</td>\n",
       "      <td>585200</td>\n",
       "      <td>0.875000</td>\n",
       "      <td>0.430233</td>\n",
       "      <td>0.102564</td>\n",
       "      <td>0.089744</td>\n",
       "      <td>-0.012821</td>\n",
       "      <td>0.384615</td>\n",
       "    </tr>\n",
       "    <tr>\n",
       "      <th>2</th>\n",
       "      <td>0</td>\n",
       "      <td>3</td>\n",
       "      <td>526229</td>\n",
       "      <td>0.25</td>\n",
       "      <td>0.24</td>\n",
       "      <td>0.056338</td>\n",
       "      <td>0.014085</td>\n",
       "      <td>-0.042254</td>\n",
       "      <td>0.239437</td>\n",
       "      <td>772894</td>\n",
       "      <td>0.000000</td>\n",
       "      <td>0.168142</td>\n",
       "      <td>0.008929</td>\n",
       "      <td>0.000000</td>\n",
       "      <td>-0.008929</td>\n",
       "      <td>0.169643</td>\n",
       "    </tr>\n",
       "    <tr>\n",
       "      <th>3</th>\n",
       "      <td>0</td>\n",
       "      <td>4</td>\n",
       "      <td>526229</td>\n",
       "      <td>0.25</td>\n",
       "      <td>0.24</td>\n",
       "      <td>0.056338</td>\n",
       "      <td>0.014085</td>\n",
       "      <td>-0.042254</td>\n",
       "      <td>0.239437</td>\n",
       "      <td>774905</td>\n",
       "      <td>0.500000</td>\n",
       "      <td>0.265306</td>\n",
       "      <td>0.113636</td>\n",
       "      <td>0.056818</td>\n",
       "      <td>-0.056818</td>\n",
       "      <td>0.238636</td>\n",
       "    </tr>\n",
       "    <tr>\n",
       "      <th>4</th>\n",
       "      <td>0</td>\n",
       "      <td>5</td>\n",
       "      <td>526229</td>\n",
       "      <td>0.25</td>\n",
       "      <td>0.24</td>\n",
       "      <td>0.056338</td>\n",
       "      <td>0.014085</td>\n",
       "      <td>-0.042254</td>\n",
       "      <td>0.239437</td>\n",
       "      <td>861187</td>\n",
       "      <td>0.750000</td>\n",
       "      <td>0.622642</td>\n",
       "      <td>0.358974</td>\n",
       "      <td>0.269231</td>\n",
       "      <td>-0.089744</td>\n",
       "      <td>0.576923</td>\n",
       "    </tr>\n",
       "  </tbody>\n",
       "</table>\n",
       "</div>"
      ],
      "text/plain": [
       "   a  b  item_id_a  p(rel|seen,i)_a  p(rel|i)_a    odds_a  phiP_obs_a  \\\n",
       "0  0  1     526229             0.25        0.24  0.056338    0.014085   \n",
       "1  0  2     526229             0.25        0.24  0.056338    0.014085   \n",
       "2  0  3     526229             0.25        0.24  0.056338    0.014085   \n",
       "3  0  4     526229             0.25        0.24  0.056338    0.014085   \n",
       "4  0  5     526229             0.25        0.24  0.056338    0.014085   \n",
       "\n",
       "   phiAntiP_obs_a  phiP_true_a  item_id_b  p(rel|seen,i)_b  p(rel|i)_b  \\\n",
       "0       -0.042254     0.239437     536440         0.685714    0.522936   \n",
       "1       -0.042254     0.239437     585200         0.875000    0.430233   \n",
       "2       -0.042254     0.239437     772894         0.000000    0.168142   \n",
       "3       -0.042254     0.239437     774905         0.500000    0.265306   \n",
       "4       -0.042254     0.239437     861187         0.750000    0.622642   \n",
       "\n",
       "     odds_b  phiP_obs_b  phiAntiP_obs_b  phiP_true_b  \n",
       "0  1.794872    1.230769       -0.564103     0.230769  \n",
       "1  0.102564    0.089744       -0.012821     0.384615  \n",
       "2  0.008929    0.000000       -0.008929     0.169643  \n",
       "3  0.113636    0.056818       -0.056818     0.238636  \n",
       "4  0.358974    0.269231       -0.089744     0.576923  "
      ]
     },
     "execution_count": 39,
     "metadata": {},
     "output_type": "execute_result"
    }
   ],
   "source": [
    "mab.head()"
   ]
  },
  {
   "cell_type": "code",
   "execution_count": 40,
   "metadata": {},
   "outputs": [
    {
     "data": {
      "text/html": [
       "<div>\n",
       "<style scoped>\n",
       "    .dataframe tbody tr th:only-of-type {\n",
       "        vertical-align: middle;\n",
       "    }\n",
       "\n",
       "    .dataframe tbody tr th {\n",
       "        vertical-align: top;\n",
       "    }\n",
       "\n",
       "    .dataframe thead th {\n",
       "        text-align: right;\n",
       "    }\n",
       "</style>\n",
       "<table border=\"1\" class=\"dataframe\">\n",
       "  <thead>\n",
       "    <tr style=\"text-align: right;\">\n",
       "      <th></th>\n",
       "      <th>a</th>\n",
       "      <th>b</th>\n",
       "      <th>item_id_a</th>\n",
       "      <th>p(rel|seen,i)_a</th>\n",
       "      <th>p(rel|i)_a</th>\n",
       "      <th>odds_a</th>\n",
       "      <th>phiP_obs_a</th>\n",
       "      <th>phiAntiP_obs_a</th>\n",
       "      <th>phiP_true_a</th>\n",
       "      <th>item_id_b</th>\n",
       "      <th>p(rel|seen,i)_b</th>\n",
       "      <th>p(rel|i)_b</th>\n",
       "      <th>odds_b</th>\n",
       "      <th>phiP_obs_b</th>\n",
       "      <th>phiAntiP_obs_b</th>\n",
       "      <th>phiP_true_b</th>\n",
       "    </tr>\n",
       "  </thead>\n",
       "  <tbody>\n",
       "  </tbody>\n",
       "</table>\n",
       "</div>"
      ],
      "text/plain": [
       "Empty DataFrame\n",
       "Columns: [a, b, item_id_a, p(rel|seen,i)_a, p(rel|i)_a, odds_a, phiP_obs_a, phiAntiP_obs_a, phiP_true_a, item_id_b, p(rel|seen,i)_b, p(rel|i)_b, odds_b, phiP_obs_b, phiAntiP_obs_b, phiP_true_b]\n",
       "Index: []"
      ]
     },
     "execution_count": 40,
     "metadata": {},
     "output_type": "execute_result"
    }
   ],
   "source": [
    "mab[mab.odds_b.isnull()]"
   ]
  },
  {
   "cell_type": "markdown",
   "metadata": {},
   "source": [
    "_______________________________________"
   ]
  },
  {
   "cell_type": "markdown",
   "metadata": {},
   "source": [
    "### Agreement"
   ]
  },
  {
   "cell_type": "markdown",
   "metadata": {},
   "source": [
    "relevance and popularity agree ['p(rel|i)_a'] > ['p(rel|i)_b'] and ['odds_a'] > ['odds_b']  OR\n",
    "['p(rel|i)_a'] < ['p(rel|i)_b'] and ['odds_a'] < ['odds_b']"
   ]
  },
  {
   "cell_type": "code",
   "execution_count": 41,
   "metadata": {},
   "outputs": [
    {
     "name": "stdout",
     "output_type": "stream",
     "text": [
      "True     384713\n",
      "False    170218\n",
      "dtype: int64\n"
     ]
    }
   ],
   "source": [
    "agg = (((mab['p(rel|i)_a']- mab['p(rel|i)_b'])*(mab['odds_a']- mab['odds_b']))>0)\n",
    "print(agg.value_counts())"
   ]
  },
  {
   "cell_type": "markdown",
   "metadata": {},
   "source": [
    "Lemma 3 (a)"
   ]
  },
  {
   "cell_type": "code",
   "execution_count": 42,
   "metadata": {},
   "outputs": [
    {
     "data": {
      "text/plain": [
       "0.6932627660015389"
      ]
     },
     "execution_count": 42,
     "metadata": {},
     "output_type": "execute_result"
    }
   ],
   "source": [
    "agg.value_counts()[1]/len(mab) #true "
   ]
  },
  {
   "cell_type": "markdown",
   "metadata": {},
   "source": [
    "Lemma 3 (b)"
   ]
  },
  {
   "cell_type": "code",
   "execution_count": 43,
   "metadata": {},
   "outputs": [
    {
     "data": {
      "text/plain": [
       "0.3067372339984611"
      ]
     },
     "execution_count": 43,
     "metadata": {},
     "output_type": "execute_result"
    }
   ],
   "source": [
    "agg.value_counts()[0]/len(mab) #false"
   ]
  },
  {
   "cell_type": "markdown",
   "metadata": {},
   "source": [
    "---------------"
   ]
  },
  {
   "cell_type": "markdown",
   "metadata": {},
   "source": [
    "### steepness"
   ]
  },
  {
   "cell_type": "markdown",
   "metadata": {},
   "source": [
    "odds steeper than relevance"
   ]
  },
  {
   "cell_type": "code",
   "execution_count": 44,
   "metadata": {},
   "outputs": [],
   "source": [
    "steep = ((abs(mab['odds_a']-mab['odds_b'])/mab[['odds_a','odds_b']].max(axis=1))) > ((abs(mab['p(rel|i)_a']- mab['p(rel|i)_b'])/mab[['p(rel|i)_a','p(rel|i)_b']].max(axis=1)))"
   ]
  },
  {
   "cell_type": "code",
   "execution_count": 45,
   "metadata": {},
   "outputs": [
    {
     "data": {
      "text/plain": [
       "True     416744\n",
       "False    138187\n",
       "dtype: int64"
      ]
     },
     "execution_count": 45,
     "metadata": {},
     "output_type": "execute_result"
    }
   ],
   "source": [
    "steep.value_counts()"
   ]
  },
  {
   "cell_type": "markdown",
   "metadata": {},
   "source": [
    "odds steeper than non-relevance"
   ]
  },
  {
   "cell_type": "code",
   "execution_count": 46,
   "metadata": {},
   "outputs": [],
   "source": [
    "mab['p(notrel|i)_a']=1-mab['p(rel|i)_a'] "
   ]
  },
  {
   "cell_type": "code",
   "execution_count": 47,
   "metadata": {},
   "outputs": [],
   "source": [
    "mab['p(notrel|i)_b']=1-mab['p(rel|i)_b']"
   ]
  },
  {
   "cell_type": "code",
   "execution_count": 48,
   "metadata": {},
   "outputs": [
    {
     "name": "stdout",
     "output_type": "stream",
     "text": [
      "True     502139\n",
      "False     52792\n",
      "dtype: int64\n"
     ]
    }
   ],
   "source": [
    "steep2 = (((abs(mab['odds_a']-mab['odds_b'])/mab[['odds_a','odds_b']].max(axis=1))) > ((abs(mab['p(rel|i)_a']- mab['p(rel|i)_b'])/mab[['p(notrel|i)_a','p(notrel|i)_b']].max(axis=1))))\n",
    "print(steep2.value_counts())"
   ]
  },
  {
   "cell_type": "markdown",
   "metadata": {},
   "source": [
    "--------------------------"
   ]
  },
  {
   "cell_type": "markdown",
   "metadata": {},
   "source": [
    "### Lemma3"
   ]
  },
  {
   "cell_type": "markdown",
   "metadata": {},
   "source": [
    "popularity and relevance agree AND popularity is steeper than non_relevance lemma 3 (a)(i)"
   ]
  },
  {
   "cell_type": "code",
   "execution_count": 49,
   "metadata": {},
   "outputs": [
    {
     "data": {
      "text/plain": [
       "0.641614903474486"
      ]
     },
     "execution_count": 49,
     "metadata": {},
     "output_type": "execute_result"
    }
   ],
   "source": [
    "len(mab.loc[agg & steep2])/len(mab)"
   ]
  },
  {
   "cell_type": "markdown",
   "metadata": {},
   "source": [
    "popularity and relevance agree AND popularity is less steep than non_relevance lemma 3 (a)(ii)"
   ]
  },
  {
   "cell_type": "code",
   "execution_count": 50,
   "metadata": {},
   "outputs": [
    {
     "data": {
      "text/plain": [
       "0.05164786252705291"
      ]
     },
     "execution_count": 50,
     "metadata": {},
     "output_type": "execute_result"
    }
   ],
   "source": [
    "len(mab.loc[agg & ~steep2])/len(mab)"
   ]
  },
  {
   "cell_type": "markdown",
   "metadata": {},
   "source": [
    "popularity and relevance disagree AND popularity is steeper than non_relevance lemma 3 (b)(i)"
   ]
  },
  {
   "cell_type": "code",
   "execution_count": 51,
   "metadata": {},
   "outputs": [
    {
     "data": {
      "text/plain": [
       "0.2123453186071782"
      ]
     },
     "execution_count": 51,
     "metadata": {},
     "output_type": "execute_result"
    }
   ],
   "source": [
    "len(mab.loc[~agg & steep])/len(mab)"
   ]
  },
  {
   "cell_type": "markdown",
   "metadata": {},
   "source": [
    "popularity and relevance disagree AND popularity is less steep than non_relevance lemma 3 (b)(ii)"
   ]
  },
  {
   "cell_type": "code",
   "execution_count": 52,
   "metadata": {},
   "outputs": [
    {
     "data": {
      "text/plain": [
       "0.09439191539128287"
      ]
     },
     "execution_count": 52,
     "metadata": {},
     "output_type": "execute_result"
    }
   ],
   "source": [
    "len(mab.loc[~agg & ~steep])/len(mab)"
   ]
  },
  {
   "cell_type": "code",
   "execution_count": 53,
   "metadata": {},
   "outputs": [
    {
     "data": {
      "image/png": "[encoded data removed]",
      "text/plain": [
       "<IPython.core.display.Image object>"
      ]
     },
     "execution_count": 53,
     "metadata": {},
     "output_type": "execute_result"
    }
   ],
   "source": [
    "from IPython.display import Image\n",
    "Image(filename='../../images/fig9.png')"
   ]
  },
  {
   "cell_type": "markdown",
   "metadata": {},
   "source": [
    "_____"
   ]
  },
  {
   "cell_type": "markdown",
   "metadata": {},
   "source": [
    "### Agreement in optimal functions"
   ]
  },
  {
   "cell_type": "code",
   "execution_count": 54,
   "metadata": {},
   "outputs": [
    {
     "data": {
      "text/html": [
       "<div>\n",
       "<style scoped>\n",
       "    .dataframe tbody tr th:only-of-type {\n",
       "        vertical-align: middle;\n",
       "    }\n",
       "\n",
       "    .dataframe tbody tr th {\n",
       "        vertical-align: top;\n",
       "    }\n",
       "\n",
       "    .dataframe thead th {\n",
       "        text-align: right;\n",
       "    }\n",
       "</style>\n",
       "<table border=\"1\" class=\"dataframe\">\n",
       "  <thead>\n",
       "    <tr style=\"text-align: right;\">\n",
       "      <th></th>\n",
       "      <th>a</th>\n",
       "      <th>b</th>\n",
       "      <th>item_id_a</th>\n",
       "      <th>p(rel|seen,i)_a</th>\n",
       "      <th>p(rel|i)_a</th>\n",
       "      <th>odds_a</th>\n",
       "      <th>phiP_obs_a</th>\n",
       "      <th>phiAntiP_obs_a</th>\n",
       "      <th>phiP_true_a</th>\n",
       "      <th>item_id_b</th>\n",
       "      <th>p(rel|seen,i)_b</th>\n",
       "      <th>p(rel|i)_b</th>\n",
       "      <th>odds_b</th>\n",
       "      <th>phiP_obs_b</th>\n",
       "      <th>phiAntiP_obs_b</th>\n",
       "      <th>phiP_true_b</th>\n",
       "      <th>p(notrel|i)_a</th>\n",
       "      <th>p(notrel|i)_b</th>\n",
       "    </tr>\n",
       "  </thead>\n",
       "  <tbody>\n",
       "    <tr>\n",
       "      <th>0</th>\n",
       "      <td>0</td>\n",
       "      <td>1</td>\n",
       "      <td>526229</td>\n",
       "      <td>0.25</td>\n",
       "      <td>0.24</td>\n",
       "      <td>0.056338</td>\n",
       "      <td>0.014085</td>\n",
       "      <td>-0.042254</td>\n",
       "      <td>0.239437</td>\n",
       "      <td>536440</td>\n",
       "      <td>0.685714</td>\n",
       "      <td>0.522936</td>\n",
       "      <td>1.794872</td>\n",
       "      <td>1.230769</td>\n",
       "      <td>-0.564103</td>\n",
       "      <td>0.230769</td>\n",
       "      <td>0.76</td>\n",
       "      <td>0.477064</td>\n",
       "    </tr>\n",
       "    <tr>\n",
       "      <th>1</th>\n",
       "      <td>0</td>\n",
       "      <td>2</td>\n",
       "      <td>526229</td>\n",
       "      <td>0.25</td>\n",
       "      <td>0.24</td>\n",
       "      <td>0.056338</td>\n",
       "      <td>0.014085</td>\n",
       "      <td>-0.042254</td>\n",
       "      <td>0.239437</td>\n",
       "      <td>585200</td>\n",
       "      <td>0.875000</td>\n",
       "      <td>0.430233</td>\n",
       "      <td>0.102564</td>\n",
       "      <td>0.089744</td>\n",
       "      <td>-0.012821</td>\n",
       "      <td>0.384615</td>\n",
       "      <td>0.76</td>\n",
       "      <td>0.569767</td>\n",
       "    </tr>\n",
       "    <tr>\n",
       "      <th>2</th>\n",
       "      <td>0</td>\n",
       "      <td>3</td>\n",
       "      <td>526229</td>\n",
       "      <td>0.25</td>\n",
       "      <td>0.24</td>\n",
       "      <td>0.056338</td>\n",
       "      <td>0.014085</td>\n",
       "      <td>-0.042254</td>\n",
       "      <td>0.239437</td>\n",
       "      <td>772894</td>\n",
       "      <td>0.000000</td>\n",
       "      <td>0.168142</td>\n",
       "      <td>0.008929</td>\n",
       "      <td>0.000000</td>\n",
       "      <td>-0.008929</td>\n",
       "      <td>0.169643</td>\n",
       "      <td>0.76</td>\n",
       "      <td>0.831858</td>\n",
       "    </tr>\n",
       "    <tr>\n",
       "      <th>3</th>\n",
       "      <td>0</td>\n",
       "      <td>4</td>\n",
       "      <td>526229</td>\n",
       "      <td>0.25</td>\n",
       "      <td>0.24</td>\n",
       "      <td>0.056338</td>\n",
       "      <td>0.014085</td>\n",
       "      <td>-0.042254</td>\n",
       "      <td>0.239437</td>\n",
       "      <td>774905</td>\n",
       "      <td>0.500000</td>\n",
       "      <td>0.265306</td>\n",
       "      <td>0.113636</td>\n",
       "      <td>0.056818</td>\n",
       "      <td>-0.056818</td>\n",
       "      <td>0.238636</td>\n",
       "      <td>0.76</td>\n",
       "      <td>0.734694</td>\n",
       "    </tr>\n",
       "    <tr>\n",
       "      <th>4</th>\n",
       "      <td>0</td>\n",
       "      <td>5</td>\n",
       "      <td>526229</td>\n",
       "      <td>0.25</td>\n",
       "      <td>0.24</td>\n",
       "      <td>0.056338</td>\n",
       "      <td>0.014085</td>\n",
       "      <td>-0.042254</td>\n",
       "      <td>0.239437</td>\n",
       "      <td>861187</td>\n",
       "      <td>0.750000</td>\n",
       "      <td>0.622642</td>\n",
       "      <td>0.358974</td>\n",
       "      <td>0.269231</td>\n",
       "      <td>-0.089744</td>\n",
       "      <td>0.576923</td>\n",
       "      <td>0.76</td>\n",
       "      <td>0.377358</td>\n",
       "    </tr>\n",
       "  </tbody>\n",
       "</table>\n",
       "</div>"
      ],
      "text/plain": [
       "   a  b  item_id_a  p(rel|seen,i)_a  p(rel|i)_a    odds_a  phiP_obs_a  \\\n",
       "0  0  1     526229             0.25        0.24  0.056338    0.014085   \n",
       "1  0  2     526229             0.25        0.24  0.056338    0.014085   \n",
       "2  0  3     526229             0.25        0.24  0.056338    0.014085   \n",
       "3  0  4     526229             0.25        0.24  0.056338    0.014085   \n",
       "4  0  5     526229             0.25        0.24  0.056338    0.014085   \n",
       "\n",
       "   phiAntiP_obs_a  phiP_true_a  item_id_b  p(rel|seen,i)_b  p(rel|i)_b  \\\n",
       "0       -0.042254     0.239437     536440         0.685714    0.522936   \n",
       "1       -0.042254     0.239437     585200         0.875000    0.430233   \n",
       "2       -0.042254     0.239437     772894         0.000000    0.168142   \n",
       "3       -0.042254     0.239437     774905         0.500000    0.265306   \n",
       "4       -0.042254     0.239437     861187         0.750000    0.622642   \n",
       "\n",
       "     odds_b  phiP_obs_b  phiAntiP_obs_b  phiP_true_b  p(notrel|i)_a  \\\n",
       "0  1.794872    1.230769       -0.564103     0.230769           0.76   \n",
       "1  0.102564    0.089744       -0.012821     0.384615           0.76   \n",
       "2  0.008929    0.000000       -0.008929     0.169643           0.76   \n",
       "3  0.113636    0.056818       -0.056818     0.238636           0.76   \n",
       "4  0.358974    0.269231       -0.089744     0.576923           0.76   \n",
       "\n",
       "   p(notrel|i)_b  \n",
       "0       0.477064  \n",
       "1       0.569767  \n",
       "2       0.831858  \n",
       "3       0.734694  \n",
       "4       0.377358  "
      ]
     },
     "execution_count": 54,
     "metadata": {},
     "output_type": "execute_result"
    }
   ],
   "source": [
    "mab.head()"
   ]
  },
  {
   "cell_type": "code",
   "execution_count": 55,
   "metadata": {},
   "outputs": [
    {
     "name": "stdout",
     "output_type": "stream",
     "text": [
      "True     356137\n",
      "False    198794\n",
      "dtype: int64\n"
     ]
    }
   ],
   "source": [
    "agg_opt = (((mab['phiP_obs_a']- mab['phiP_obs_b'])*(mab['phiP_true_a']- mab['phiP_true_b']))>0)\n",
    "print(agg_opt.value_counts())"
   ]
  },
  {
   "cell_type": "code",
   "execution_count": 56,
   "metadata": {},
   "outputs": [
    {
     "name": "stdout",
     "output_type": "stream",
     "text": [
      "False    303616\n",
      "True     251315\n",
      "dtype: int64\n"
     ]
    }
   ],
   "source": [
    "agg_opt_anti= (((mab['phiAntiP_obs_a']- mab['phiAntiP_obs_b'])*(mab['phiP_true_a']- mab['phiP_true_b']))>0)\n",
    "print(agg_opt_anti.value_counts())"
   ]
  },
  {
   "cell_type": "markdown",
   "metadata": {},
   "source": [
    "optimal observed precision and optimal true precision agree (when popularity and relevance agree)"
   ]
  },
  {
   "cell_type": "code",
   "execution_count": 57,
   "metadata": {},
   "outputs": [
    {
     "data": {
      "text/plain": [
       "0.528110702051246"
      ]
     },
     "execution_count": 57,
     "metadata": {},
     "output_type": "execute_result"
    }
   ],
   "source": [
    "len(mab.loc[agg & steep2 & agg_opt])/len(mab)"
   ]
  },
  {
   "cell_type": "code",
   "execution_count": 58,
   "metadata": {},
   "outputs": [
    {
     "data": {
      "text/plain": [
       "0.5715809713279669"
      ]
     },
     "execution_count": 58,
     "metadata": {},
     "output_type": "execute_result"
    }
   ],
   "source": [
    "len(mab.loc[agg & agg_opt])/len(mab) "
   ]
  },
  {
   "cell_type": "markdown",
   "metadata": {},
   "source": [
    "optimal observed precision and optimal true precision disagree (when popularity and relevance agree)"
   ]
  },
  {
   "cell_type": "code",
   "execution_count": 59,
   "metadata": {},
   "outputs": [
    {
     "data": {
      "text/plain": [
       "0.12168179467357203"
      ]
     },
     "execution_count": 59,
     "metadata": {},
     "output_type": "execute_result"
    }
   ],
   "source": [
    "len(mab.loc[agg & ~agg_opt])/len(mab)"
   ]
  },
  {
   "cell_type": "markdown",
   "metadata": {},
   "source": [
    "optimal observed precision and optimal true precision agree (when popularity and relevance disagree)"
   ]
  },
  {
   "cell_type": "code",
   "execution_count": 60,
   "metadata": {},
   "outputs": [
    {
     "data": {
      "text/plain": [
       "0.07018710434270206"
      ]
     },
     "execution_count": 60,
     "metadata": {},
     "output_type": "execute_result"
    }
   ],
   "source": [
    "len(mab.loc[~agg & agg_opt])/len(mab) "
   ]
  },
  {
   "cell_type": "markdown",
   "metadata": {},
   "source": [
    "optimal observed precision and optimal true precision disagree (when popularity and relevance disagree)\n"
   ]
  },
  {
   "cell_type": "code",
   "execution_count": 61,
   "metadata": {},
   "outputs": [
    {
     "data": {
      "text/plain": [
       "0.236550129655759"
      ]
     },
     "execution_count": 61,
     "metadata": {},
     "output_type": "execute_result"
    }
   ],
   "source": [
    "len(mab.loc[~agg & ~agg_opt])/len(mab) "
   ]
  },
  {
   "cell_type": "markdown",
   "metadata": {},
   "source": [
    "#### optimals for anti-precision"
   ]
  },
  {
   "cell_type": "markdown",
   "metadata": {},
   "source": [
    "optimal observed anti-precision and optimal true anti-precision agree (when popularity and relevance agree)"
   ]
  },
  {
   "cell_type": "code",
   "execution_count": 62,
   "metadata": {},
   "outputs": [
    {
     "data": {
      "text/plain": [
       "0.1555508702883782"
      ]
     },
     "execution_count": 62,
     "metadata": {},
     "output_type": "execute_result"
    }
   ],
   "source": [
    "len(mab.loc[agg & steep2 & agg_opt_anti])/len(mab)"
   ]
  },
  {
   "cell_type": "code",
   "execution_count": 63,
   "metadata": {},
   "outputs": [
    {
     "data": {
      "text/plain": [
       "0.19018760890993655"
      ]
     },
     "execution_count": 63,
     "metadata": {},
     "output_type": "execute_result"
    }
   ],
   "source": [
    "len(mab.loc[agg & agg_opt_anti])/len(mab)"
   ]
  },
  {
   "cell_type": "markdown",
   "metadata": {},
   "source": [
    "optimal observed anti-precision and optimal true anti-precision disagree (when popularity and relevance agree)"
   ]
  },
  {
   "cell_type": "code",
   "execution_count": 64,
   "metadata": {},
   "outputs": [
    {
     "data": {
      "text/plain": [
       "0.5030751570916023"
      ]
     },
     "execution_count": 64,
     "metadata": {},
     "output_type": "execute_result"
    }
   ],
   "source": [
    "len(mab.loc[agg & ~agg_opt_anti])/len(mab)"
   ]
  },
  {
   "cell_type": "markdown",
   "metadata": {},
   "source": [
    "optimal observed anti-precision and optimal true anti-precision agree (when popularity and relevance disagree)"
   ]
  },
  {
   "cell_type": "code",
   "execution_count": 65,
   "metadata": {},
   "outputs": [
    {
     "data": {
      "text/plain": [
       "0.26268851442791985"
      ]
     },
     "execution_count": 65,
     "metadata": {},
     "output_type": "execute_result"
    }
   ],
   "source": [
    "len(mab.loc[~agg & agg_opt_anti])/len(mab)"
   ]
  },
  {
   "cell_type": "markdown",
   "metadata": {},
   "source": [
    "optimal observed anti-precision and optimal true anti-precision disagree (when popularity and relevance disagree)"
   ]
  },
  {
   "cell_type": "code",
   "execution_count": 66,
   "metadata": {
    "pycharm": {
     "name": "#%%\n"
    }
   },
   "outputs": [
    {
     "data": {
      "text/plain": [
       "0.044048719570541205"
      ]
     },
     "execution_count": 66,
     "metadata": {},
     "output_type": "execute_result"
    }
   ],
   "source": [
    "len(mab.loc[~agg & ~agg_opt_anti])/len(mab)\n",
    "\n"
   ]
  }
 ],
 "metadata": {
  "kernelspec": {
   "display_name": "Python (root)",
   "language": "python",
   "name": "root"
  },
  "language_info": {
   "codemirror_mode": {
    "name": "ipython",
    "version": 3
   },
   "file_extension": ".py",
   "mimetype": "text/x-python",
   "name": "python",
   "nbconvert_exporter": "python",
   "pygments_lexer": "ipython3",
   "version": "3.7.1"
  }
 },
 "nbformat": 4,
 "nbformat_minor": 1
}
